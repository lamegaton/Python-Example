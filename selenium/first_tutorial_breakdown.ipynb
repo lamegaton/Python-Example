{
 "cells": [
  {
   "cell_type": "code",
   "execution_count": null,
   "id": "6bae5db3-1bd4-4b66-a578-d0262bef5afd",
   "metadata": {},
   "outputs": [],
   "source": [
    "import pytest\n",
    "from selenium import webdriver\n",
    "import sys\n",
    "from selenium.webdriver.chrome.options import Options\n",
    "from selenium.webdriver.common.keys import Keys\n",
    "from time import sleep\n",
    "from selenium.webdriver.common.by import By\n"
   ]
  },
  {
   "cell_type": "markdown",
   "id": "18959366-e99c-4493-9161-14829941520c",
   "metadata": {},
   "source": [
    "## Load webdrive\n",
    "We can find the document here: https://selenium-python.readthedocs.io/locating-elements.html\n",
    "For Selenium 4, we don't need to find "
   ]
  },
  {
   "cell_type": "code",
   "execution_count": 17,
   "id": "7e8ac5c0-d4e2-4d9d-b249-1cb605afc2c8",
   "metadata": {},
   "outputs": [],
   "source": [
    "chrome_driver = webdriver.Chrome()\n",
    "\n",
    "chrome_driver.get('https://lambdatest.github.io/sample-todo-app/')\n",
    "chrome_driver.maximize_window()\n",
    "\n",
    "chrome_driver.find_element(By.NAME, \"li1\").click()"
   ]
  },
  {
   "cell_type": "code",
   "execution_count": null,
   "id": "b6726cfb-35fa-418d-98bc-b64954b6079c",
   "metadata": {},
   "outputs": [],
   "source": []
  },
  {
   "cell_type": "code",
   "execution_count": null,
   "id": "ddf45007-e98a-4381-8fcd-3532c7554b0c",
   "metadata": {},
   "outputs": [],
   "source": []
  }
 ],
 "metadata": {
  "kernelspec": {
   "display_name": "Python 3 (ipykernel)",
   "language": "python",
   "name": "python3"
  },
  "language_info": {
   "codemirror_mode": {
    "name": "ipython",
    "version": 3
   },
   "file_extension": ".py",
   "mimetype": "text/x-python",
   "name": "python",
   "nbconvert_exporter": "python",
   "pygments_lexer": "ipython3",
   "version": "3.11.3"
  }
 },
 "nbformat": 4,
 "nbformat_minor": 5
}
