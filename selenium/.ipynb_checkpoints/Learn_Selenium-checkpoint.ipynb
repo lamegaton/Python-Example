{
 "cells": [
  {
   "cell_type": "code",
   "execution_count": 22,
   "id": "2e01dbdc",
   "metadata": {},
   "outputs": [
    {
     "name": "stdout",
     "output_type": "stream",
     "text": [
      "\u001b[1m============================= test session starts =============================\u001b[0m\n",
      "platform win32 -- Python 3.11.3, pytest-7.4.0, pluggy-1.2.0 -- C:\\Users\\sonph\\AppData\\Local\\Programs\\Python\\Python311\\python.exe\n",
      "cachedir: .pytest_cache\n",
      "rootdir: S:\\github\\Python-Example\\selenium\n",
      "plugins: anyio-3.7.0, typeguard-2.13.3\n",
      "\u001b[1mcollecting ... \u001b[0mcollected 1 item\n",
      "\n",
      "First_tutorial.py::test_lambdatest_todo_app \u001b[32mPASSED\u001b[0m\n",
      "\n",
      "\u001b[32m============================= \u001b[32m\u001b[1m1 passed\u001b[0m\u001b[32m in 16.61s\u001b[0m\u001b[32m ==============================\u001b[0m\n"
     ]
    }
   ],
   "source": [
    "!pytest First_tutorial.py --verbose --capture=no"
   ]
  }
 ],
 "metadata": {
  "kernelspec": {
   "display_name": "Python 3 (ipykernel)",
   "language": "python",
   "name": "python3"
  },
  "language_info": {
   "codemirror_mode": {
    "name": "ipython",
    "version": 3
   },
   "file_extension": ".py",
   "mimetype": "text/x-python",
   "name": "python",
   "nbconvert_exporter": "python",
   "pygments_lexer": "ipython3",
   "version": "3.11.3"
  }
 },
 "nbformat": 4,
 "nbformat_minor": 5
}
