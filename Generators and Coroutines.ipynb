{
 "cells": [
  {
   "cell_type": "markdown",
   "id": "281f612f",
   "metadata": {},
   "source": [
    "## Generators:\n",
    "\n",
    "Generators are a type of iterable in Python that allow you to create iterators using a special kind of function. They generate values one at a time and remember their state between iterations.\n",
    "\n",
    "### Creating Generators:\n",
    "\n",
    "Generators are created using functions with the `yield` keyword.\n",
    "\n",
    "```python\n",
    "def countdown(n):\n",
    "    while n > 0:\n",
    "        yield n\n",
    "        n -= 1\n",
    "\n",
    "countdown_iterator = countdown(5)\n",
    "for i in countdown_iterator:\n",
    "    print(i)\n",
    "```\n",
    "References:\n",
    "1. https://stackoverflow.com/questions/231767/what-does-the-yield-keyword-do-in-python\n",
    "\n",
    "\n",
    "### Lazy Evaluation:\n",
    "\n",
    "Generators use lazy evaluation, which means they produce values only when requested. This is useful for generating large sequences without consuming a lot of memory.\n",
    "\n",
    "### Generator Expressions:\n",
    "\n",
    "Generator expressions are similar to list comprehensions but produce values lazily.\n",
    "\n",
    "```python\n",
    "squared_numbers = (x ** 2 for x in range(1, 6))\n",
    "for num in squared_numbers:\n",
    "    print(num)\n",
    "```\n",
    "\n",
    "## Coroutines:\n",
    "\n",
    "Coroutines are special types of functions that allow you to pause their execution and later resume it, similar to generators. They are used in asynchronous programming to handle tasks concurrently.\n",
    "\n",
    "### Creating Coroutines:\n",
    "\n",
    "Coroutines are created using functions with the `async def` syntax.\n",
    "\n",
    "```python\n",
    "import asyncio\n",
    "\n",
    "async def print_numbers():\n",
    "    for i in range(1, 6):\n",
    "        print(i)\n",
    "        await asyncio.sleep(1)  # Asynchronous sleep\n",
    "\n",
    "await(print_numbers())\n",
    "```\n",
    "\n",
    "### `await` Keyword:\n",
    "\n",
    "In coroutines, you use the `await` keyword to pause the execution of the coroutine until the awaited task completes. This allows other tasks to run in the meantime.\n",
    "\n",
    "### Asynchronous Programming:\n",
    "\n",
    "Coroutines are the foundation of asynchronous programming in Python, allowing you to write non-blocking code that can efficiently handle many I/O-bound operations concurrently.\n",
    "\n",
    "### Example with `asyncio`:\n",
    "\n",
    "```python\n",
    "import asyncio\n",
    "\n",
    "async def fetch_url(url):\n",
    "    async with aiohttp.ClientSession() as session:\n",
    "        async with session.get(url) as response:\n",
    "            return await response.text()\n",
    "\n",
    "async def main():\n",
    "    urls = [\"http://example.com\", \"http://google.com\", \"http://openai.com\"]\n",
    "    tasks = [fetch_url(url) for url in urls]\n",
    "    results = await asyncio.gather(*tasks)\n",
    "    for result in results:\n",
    "        print(result[:100])  # Print the first 100 characters of each response\n",
    "\n",
    "asyncio.run(main())\n",
    "```\n",
    "\n",
    "In this example, the `fetch_url` coroutine is used to asynchronously fetch URLs using the `aiohttp` library. The `asyncio.gather` function is used to concurrently fetch multiple URLs, and the `await` keyword is used to wait for the results.\n",
    "\n",
    "Generators and coroutines are powerful tools in Python for controlling the flow of execution, handling concurrency, and creating efficient iterators and asynchronous programs."
   ]
  },
  {
   "cell_type": "code",
   "execution_count": 24,
   "id": "aae67f16",
   "metadata": {},
   "outputs": [
    {
     "name": "stdout",
     "output_type": "stream",
     "text": [
      "[5, 4, 3, 2, 1]\n"
     ]
    }
   ],
   "source": [
    "def countdown(n):\n",
    "    while n > 0:\n",
    "        yield n\n",
    "        n -= 1\n",
    "\n",
    "countdown_iterator = countdown(5)\n",
    "\n",
    "print(list(countdown_iterator)) # the generator \n",
    "\n",
    "for i in countdown_iterator:\n",
    "    print(i) if i !='' else print(\"does not exist\")"
   ]
  },
  {
   "cell_type": "code",
   "execution_count": 25,
   "id": "93c290d5",
   "metadata": {
    "scrolled": false
   },
   "outputs": [
    {
     "data": {
      "text/plain": [
       "generator"
      ]
     },
     "execution_count": 25,
     "metadata": {},
     "output_type": "execute_result"
    }
   ],
   "source": [
    "type(countdown_iterator)"
   ]
  },
  {
   "cell_type": "code",
   "execution_count": 26,
   "id": "a20a8e8d",
   "metadata": {},
   "outputs": [
    {
     "name": "stdout",
     "output_type": "stream",
     "text": [
      "5\n",
      "4\n",
      "3\n",
      "2\n",
      "1\n"
     ]
    }
   ],
   "source": [
    "countdown_iterator = countdown(5)\n",
    "for i in countdown_iterator:\n",
    "    print(i)"
   ]
  },
  {
   "cell_type": "code",
   "execution_count": 30,
   "id": "9fcefd0c",
   "metadata": {},
   "outputs": [
    {
     "name": "stdout",
     "output_type": "stream",
     "text": [
      "1\n",
      "2\n",
      "3\n",
      "4\n",
      "5\n"
     ]
    }
   ],
   "source": [
    "import asyncio\n",
    "\n",
    "async def print_numbers():\n",
    "    for i in range(1, 6):\n",
    "        print(i)\n",
    "        await asyncio.sleep(1)  # Asynchronous sleep\n",
    "\n",
    "await(print_numbers())"
   ]
  },
  {
   "cell_type": "code",
   "execution_count": 35,
   "id": "5d46ad58",
   "metadata": {},
   "outputs": [
    {
     "name": "stdout",
     "output_type": "stream",
     "text": [
      "\n",
      "\n",
      "<!doctype html>\n",
      "<html>\n",
      "<head>\n",
      "    <title>Example Domain</title>\n",
      "\n",
      "    <meta charset=\"utf-8\" />\n",
      "    <m\n",
      "\n",
      "\n",
      "<!doctype html><html itemscope=\"\" itemtype=\"http://schema.org/WebPage\" lang=\"en-CA\"><head><meta cont\n",
      "\n",
      "\n",
      "<!DOCTYPE html>\n",
      "<html lang=\"en-US\">\n",
      "<head><meta charset=\"utf-8\">\n",
      "<title>OpenAI</title>\n",
      "<meta name=\"v\n"
     ]
    }
   ],
   "source": [
    "import asyncio\n",
    "import aiohttp\n",
    "\n",
    "async def fetch_url(url):\n",
    "    async with aiohttp.ClientSession() as session:\n",
    "        async with session.get(url) as response:\n",
    "            return await response.text()\n",
    "\n",
    "async def main():\n",
    "    urls = [\"http://example.com\", \"http://google.com\", \"http://openai.com\"]\n",
    "    tasks = [fetch_url(url) for url in urls]\n",
    "    results = await asyncio.gather(*tasks)\n",
    "    for result in results:\n",
    "        print(\"\\n\")\n",
    "        print(result[:100])  # Print the first 100 characters of each response\n",
    "\n",
    "await(main())"
   ]
  },
  {
   "cell_type": "code",
   "execution_count": null,
   "id": "60789f6f",
   "metadata": {},
   "outputs": [],
   "source": []
  }
 ],
 "metadata": {
  "kernelspec": {
   "display_name": "Python 3 (ipykernel)",
   "language": "python",
   "name": "python3"
  },
  "language_info": {
   "codemirror_mode": {
    "name": "ipython",
    "version": 3
   },
   "file_extension": ".py",
   "mimetype": "text/x-python",
   "name": "python",
   "nbconvert_exporter": "python",
   "pygments_lexer": "ipython3",
   "version": "3.11.3"
  }
 },
 "nbformat": 4,
 "nbformat_minor": 5
}
