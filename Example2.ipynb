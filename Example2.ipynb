{
 "cells": [
  {
   "cell_type": "code",
   "execution_count": 1,
   "id": "49f8a8ff",
   "metadata": {},
   "outputs": [
    {
     "name": "stdout",
     "output_type": "stream",
     "text": [
      "95\n",
      "100\n",
      "<bound method Services.getScore of <__main__.Services object at 0x000001F48D530F10>>\n"
     ]
    }
   ],
   "source": [
    "class Services(object):\n",
    "    def __init__(self): \n",
    "        self.__testscore = 95\n",
    "\n",
    "    def getScore(self): \n",
    "        print(self.__testscore)\n",
    "\n",
    "    def setScore(self, testscore): \n",
    "        self.__testscore = testscore\n",
    "\n",
    "servicesscore = Services()\n",
    "servicesscore.getScore()  # Outputs 95\n",
    "servicesscore.setScore(100)\n",
    "servicesscore.getScore()  # Outputs 100\n",
    "print(servicesscore.getScore)  # Outputs something like <bound method Services.getScore of <__main__.Services object at some_memory_location>>\n"
   ]
  },
  {
   "cell_type": "code",
   "execution_count": 2,
   "id": "5c96b6d0",
   "metadata": {},
   "outputs": [
    {
     "name": "stdout",
     "output_type": "stream",
     "text": [
      "l i t t l e   "
     ]
    }
   ],
   "source": [
    "s = \"mary had a little little lamb\"\n",
    "for c in s[11:18]:\n",
    "    print(c, end=' ')\n",
    "    if \"little\" in c:\n",
    "        print(c)\n"
   ]
  },
  {
   "cell_type": "markdown",
   "id": "6a29f35f",
   "metadata": {},
   "source": [
    "https://gnosis.cx/publish/programming/charming_python_5.html\n"
   ]
  },
  {
   "cell_type": "code",
   "execution_count": 3,
   "id": "76bbce5f",
   "metadata": {},
   "outputs": [
    {
     "name": "stdout",
     "output_type": "stream",
     "text": [
      "4\n",
      "7\n"
     ]
    }
   ],
   "source": [
    "list = [4, 7, 0, 3]\n",
    "var_iter = iter(list)\n",
    "print(var_iter.__next__())\n",
    "print(var_iter.__next__())\n"
   ]
  },
  {
   "cell_type": "code",
   "execution_count": 4,
   "id": "74ef00d4",
   "metadata": {},
   "outputs": [
    {
     "name": "stdout",
     "output_type": "stream",
     "text": [
      "['21548', '12345', '67890']\n"
     ]
    }
   ],
   "source": [
    "import re\n",
    "\n",
    "text = \"The example zip codes are 21548, 12345, and 67890.\"\n",
    "pat = re.compile(\"[0-9]{5}\")\n",
    "zip_codes = pat.findall(text)\n",
    "\n",
    "print(zip_codes)  # Output: ['21548', '12345', '67890']\n"
   ]
  },
  {
   "cell_type": "code",
   "execution_count": 5,
   "id": "696471fa",
   "metadata": {},
   "outputs": [
    {
     "name": "stdout",
     "output_type": "stream",
     "text": [
      "{'apple': 3, 'banana': 2, 'cherry': 1}\n"
     ]
    }
   ],
   "source": [
    "text = \"apple banana apple cherry banana apple\"\n",
    "wordlist = text.split()\n",
    "\n",
    "wordcounts = {}\n",
    "for w in wordlist:\n",
    "    if w in wordcounts:\n",
    "        wordcounts[w] += 1\n",
    "    else:\n",
    "        wordcounts[w] = 1\n",
    "\n",
    "print(wordcounts)  # Output: {'apple': 3, 'banana': 2, 'cherry': 1}\n"
   ]
  },
  {
   "cell_type": "code",
   "execution_count": null,
   "id": "b3db1c9e",
   "metadata": {},
   "outputs": [],
   "source": []
  },
  {
   "cell_type": "code",
   "execution_count": null,
   "id": "25295351",
   "metadata": {},
   "outputs": [],
   "source": []
  },
  {
   "cell_type": "code",
   "execution_count": null,
   "id": "1f90e3b8",
   "metadata": {},
   "outputs": [],
   "source": []
  }
 ],
 "metadata": {
  "kernelspec": {
   "display_name": "Python 3 (ipykernel)",
   "language": "python",
   "name": "python3"
  },
  "language_info": {
   "codemirror_mode": {
    "name": "ipython",
    "version": 3
   },
   "file_extension": ".py",
   "mimetype": "text/x-python",
   "name": "python",
   "nbconvert_exporter": "python",
   "pygments_lexer": "ipython3",
   "version": "3.11.3"
  }
 },
 "nbformat": 4,
 "nbformat_minor": 5
}
