{
 "cells": [
  {
   "cell_type": "markdown",
   "id": "6c22befe",
   "metadata": {},
   "source": [
    "## Reading Files:\n",
    "\n",
    "### Opening Files:\n",
    "To read from a file, you first need to open it. You can use the `open()` function to achieve this. It takes two arguments: the file path and the mode ('r' for reading). Remember to close the file after you're done.\n",
    "\n",
    "```python\n",
    "file_path = 'example.txt'\n",
    "with open(file_path, 'r') as file:\n",
    "    content = file.read()  # Reads the entire file content\n",
    "    # Do something with 'content'\n",
    "# File is automatically closed when you exit the 'with' block\n",
    "```\n",
    "\n",
    "### Reading Lines:\n",
    "You can read a file line by line using a loop or the `readlines()` method.\n",
    "\n",
    "```python\n",
    "with open(file_path, 'r') as file:\n",
    "    lines = file.readlines()  # Reads lines into a list\n",
    "    for line in lines:\n",
    "        # Process each line\n",
    "```\n",
    "\n",
    "### Iterating Over Lines:\n",
    "Alternatively, you can iterate over the file object directly to read lines one by one.\n",
    "\n",
    "```python\n",
    "with open(file_path, 'r') as file:\n",
    "    for line in file:\n",
    "        # Process each line\n",
    "```\n",
    "\n",
    "## Writing Files:\n",
    "\n",
    "### Opening Files for Writing:\n",
    "To write to a file, open it with the 'w' mode. Be cautious, as this will overwrite the file's existing content. You can use 'a' (append) mode to add content without overwriting.\n",
    "\n",
    "```python\n",
    "output_path = 'output.txt'\n",
    "with open(output_path, 'w') as file:\n",
    "    file.write(\"Hello, world!\\n\")  # Writes content to the file\n",
    "```\n",
    "\n",
    "### Writing Multiple Lines:\n",
    "You can write multiple lines by concatenating them and then using the `write()` method.\n",
    "\n",
    "```python\n",
    "lines = [\"Line 1\", \"Line 2\", \"Line 3\"]\n",
    "with open(output_path, 'w') as file:\n",
    "    file.write('\\n'.join(lines))  # Writes lines to the file\n",
    "```\n",
    "\n",
    "## Closing Files:\n",
    "Although the 'with' statement automatically closes the file, you can also explicitly close it using the `close()` method.\n",
    "\n",
    "```python\n",
    "file = open(file_path, 'r')\n",
    "content = file.read()\n",
    "file.close()  # Close the file when you're done with it\n",
    "```\n",
    "\n",
    "Remember to handle exceptions and errors that might occur during file operations using try-except blocks.\n",
    "\n",
    "## Using Context Managers (Recommended):\n",
    "Using the 'with' statement (context manager) is recommended because it ensures that the file is properly closed after use, even if an exception occurs. This helps prevent resource leaks.\n",
    "\n",
    "```python\n",
    "with open(file_path, 'r') as file:\n",
    "    content = file.read()\n",
    "    # Do something with 'content'\n",
    "# File is automatically closed when you exit the 'with' block\n",
    "```\n",
    "\n",
    "## Sockets:\n",
    "While not directly related to file I/O, sockets are used for network communication. You can use Python's `socket` module to create sockets and perform network communication.\n",
    "\n",
    "```python\n",
    "import socket\n",
    "\n",
    "server_socket = socket.socket(socket.AF_INET, socket.SOCK_STREAM)\n",
    "server_socket.bind(('127.0.0.1', 12345))\n",
    "server_socket.listen(5)\n",
    "\n",
    "client_socket, client_address = server_socket.accept()\n",
    "data = client_socket.recv(1024)\n",
    "client_socket.close()\n",
    "server_socket.close()\n",
    "```\n",
    "\n",
    "Remember, this is a basic overview of Python file I/O and socket operations. There are many more advanced techniques and options available for handling various scenarios."
   ]
  },
  {
   "cell_type": "code",
   "execution_count": 10,
   "id": "280a5410",
   "metadata": {},
   "outputs": [],
   "source": [
    "file_path = 'file_IO.txt'\n",
    "with open(file_path, 'r') as file:\n",
    "    content = file.read()  # Reads the entire file content\n",
    "    # Do something with 'content'\n",
    "# File is automatically closed when you exit the 'with' block\n"
   ]
  },
  {
   "cell_type": "code",
   "execution_count": 7,
   "id": "31730d64",
   "metadata": {},
   "outputs": [
    {
     "name": "stdout",
     "output_type": "stream",
     "text": [
      "# Learn how to learn\n",
      "\n",
      "By far if you have got a bachelor degree, or some kinds of certificate. You probably has built up a system for you to learn new thing.\n",
      "\n"
     ]
    }
   ],
   "source": [
    "print(content)"
   ]
  },
  {
   "cell_type": "code",
   "execution_count": 16,
   "id": "66a83cd2",
   "metadata": {},
   "outputs": [],
   "source": [
    "output_path = 'file_IO.txt'\n",
    "with open(output_path, 'a') as file:\n",
    "    file.write(\"Hello, world!\\n\")  # Writes content to the file\n",
    "with open(output_path, 'r') as file:\n",
    "    content = file.read()  # Reads the entire file content\n",
    "# a for append\n",
    "# w for write "
   ]
  },
  {
   "cell_type": "code",
   "execution_count": 11,
   "id": "942fe3e4",
   "metadata": {},
   "outputs": [
    {
     "name": "stdout",
     "output_type": "stream",
     "text": [
      "# Learn how to learn\n",
      "\n",
      "By far if you have got a bachelor degree, or some kinds of certificate. You probably has built up a system for you to learn new thing.\n",
      "Hello, world!\n",
      "\n"
     ]
    }
   ],
   "source": [
    "print(content)"
   ]
  },
  {
   "cell_type": "code",
   "execution_count": null,
   "id": "ddd5dbee",
   "metadata": {},
   "outputs": [],
   "source": []
  },
  {
   "cell_type": "code",
   "execution_count": null,
   "id": "178ddf9c",
   "metadata": {},
   "outputs": [],
   "source": []
  },
  {
   "cell_type": "code",
   "execution_count": null,
   "id": "b2ad80c9",
   "metadata": {},
   "outputs": [],
   "source": []
  }
 ],
 "metadata": {
  "kernelspec": {
   "display_name": "Python 3 (ipykernel)",
   "language": "python",
   "name": "python3"
  },
  "language_info": {
   "codemirror_mode": {
    "name": "ipython",
    "version": 3
   },
   "file_extension": ".py",
   "mimetype": "text/x-python",
   "name": "python",
   "nbconvert_exporter": "python",
   "pygments_lexer": "ipython3",
   "version": "3.11.3"
  }
 },
 "nbformat": 4,
 "nbformat_minor": 5
}
