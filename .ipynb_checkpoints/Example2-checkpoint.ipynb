{
 "cells": [
  {
   "cell_type": "code",
   "execution_count": 1,
   "id": "a2ea9a8e",
   "metadata": {},
   "outputs": [
    {
     "name": "stdout",
     "output_type": "stream",
     "text": [
      "95\n",
      "100\n",
      "<bound method Services.getScore of <__main__.Services object at 0x000001F48D530F10>>\n"
     ]
    }
   ],
   "source": [
    "class Services(object):\n",
    "    def __init__(self): \n",
    "        self.__testscore = 95\n",
    "\n",
    "    def getScore(self): \n",
    "        print(self.__testscore)\n",
    "\n",
    "    def setScore(self, testscore): \n",
    "        self.__testscore = testscore\n",
    "\n",
    "servicesscore = Services()\n",
    "servicesscore.getScore()  # Outputs 95\n",
    "servicesscore.setScore(100)\n",
    "servicesscore.getScore()  # Outputs 100\n",
    "print(servicesscore.getScore)  # Outputs something like <bound method Services.getScore of <__main__.Services object at some_memory_location>>\n"
   ]
  },
  {
   "cell_type": "code",
   "execution_count": 2,
   "id": "c51bfe7e",
   "metadata": {},
   "outputs": [
    {
     "name": "stdout",
     "output_type": "stream",
     "text": [
      "l i t t l e   "
     ]
    }
   ],
   "source": [
    "s = \"mary had a little little lamb\"\n",
    "for c in s[11:18]:\n",
    "    print(c, end=' ')\n",
    "    if \"little\" in c:\n",
    "        print(c)\n"
   ]
  },
  {
   "cell_type": "markdown",
   "id": "070fcfef",
   "metadata": {},
   "source": [
    "https://gnosis.cx/publish/programming/charming_python_5.html\n"
   ]
  },
  {
   "cell_type": "code",
   "execution_count": null,
   "id": "d3a8a8bc",
   "metadata": {},
   "outputs": [],
   "source": []
  },
  {
   "cell_type": "code",
   "execution_count": null,
   "id": "6965d030",
   "metadata": {},
   "outputs": [],
   "source": []
  },
  {
   "cell_type": "code",
   "execution_count": null,
   "id": "1ebe41fc",
   "metadata": {},
   "outputs": [],
   "source": []
  },
  {
   "cell_type": "code",
   "execution_count": null,
   "id": "915de83b",
   "metadata": {},
   "outputs": [],
   "source": []
  },
  {
   "cell_type": "code",
   "execution_count": null,
   "id": "077be2f1",
   "metadata": {},
   "outputs": [],
   "source": []
  },
  {
   "cell_type": "code",
   "execution_count": null,
   "id": "f8aad614",
   "metadata": {},
   "outputs": [],
   "source": []
  }
 ],
 "metadata": {
  "kernelspec": {
   "display_name": "Python 3 (ipykernel)",
   "language": "python",
   "name": "python3"
  },
  "language_info": {
   "codemirror_mode": {
    "name": "ipython",
    "version": 3
   },
   "file_extension": ".py",
   "mimetype": "text/x-python",
   "name": "python",
   "nbconvert_exporter": "python",
   "pygments_lexer": "ipython3",
   "version": "3.11.3"
  }
 },
 "nbformat": 4,
 "nbformat_minor": 5
}
