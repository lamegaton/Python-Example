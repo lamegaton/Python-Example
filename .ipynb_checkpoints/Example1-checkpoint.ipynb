{
 "cells": [
  {
   "cell_type": "code",
   "execution_count": 2,
   "id": "b2fd8b45",
   "metadata": {},
   "outputs": [
    {
     "name": "stdout",
     "output_type": "stream",
     "text": [
      "Enter your name: helooo\n",
      "Hello, helooo!\n",
      "Enter your name: hi\n",
      "Hello, hi!\n"
     ]
    }
   ],
   "source": [
    "# Without the walrus operator\n",
    "name = input(\"Enter your name: \")\n",
    "if len(name) > 0:\n",
    "    print(f\"Hello, {name}!\")\n",
    "\n",
    "# With the walrus operator\n",
    "if (name := input(\"Enter your name: \")) != \"\":\n",
    "    print(f\"Hello, {name}!\")\n"
   ]
  },
  {
   "cell_type": "code",
   "execution_count": 3,
   "id": "b8da0489",
   "metadata": {},
   "outputs": [],
   "source": [
    "import os\n",
    "import stat\n",
    "\n",
    "filename = \"file_IO.txt\"\n",
    "\n",
    "size = os.stat(filename)[stat.ST_SIZE]"
   ]
  },
  {
   "cell_type": "code",
   "execution_count": 4,
   "id": "dfbc43e5",
   "metadata": {},
   "outputs": [
    {
     "name": "stdout",
     "output_type": "stream",
     "text": [
      "235\n"
     ]
    }
   ],
   "source": [
    "print(size)"
   ]
  },
  {
   "cell_type": "code",
   "execution_count": 7,
   "id": "024d1c52",
   "metadata": {},
   "outputs": [
    {
     "name": "stdout",
     "output_type": "stream",
     "text": [
      "[-1, 2, -3, -4, 5]\n"
     ]
    }
   ],
   "source": [
    "lst = [-1,-4, 2, 5, -3] \n",
    "slst = sorted(lst, key=abs)\n",
    "print(slst)"
   ]
  },
  {
   "cell_type": "code",
   "execution_count": 9,
   "id": "448b4ef4",
   "metadata": {
    "scrolled": true
   },
   "outputs": [
    {
     "name": "stdout",
     "output_type": "stream",
     "text": [
      "3.14\n",
      "(:.2f)\n",
      "(.2f)\n",
      "3.14\n"
     ]
    }
   ],
   "source": [
    "print (\"%.2f\" % 3.142)\n",
    "print (\"(:.2f)\". format (3.142))\n",
    "print (\"(.2f)\".format (3.142))\n",
    "print(\"{n:.2f}\".format (n=3.142))"
   ]
  },
  {
   "cell_type": "code",
   "execution_count": 14,
   "id": "0e165cef",
   "metadata": {},
   "outputs": [
    {
     "name": "stdout",
     "output_type": "stream",
     "text": [
      "3.14\n",
      "3.14\n",
      "3.14\n"
     ]
    }
   ],
   "source": [
    "print (\"%.2f\" % 3.142)\n",
    "print (\"{:.2f}\". format (3.142))\n",
    "print(\"{n:.2f}\".format (n=3.142))"
   ]
  },
  {
   "cell_type": "code",
   "execution_count": 15,
   "id": "080b653e",
   "metadata": {},
   "outputs": [
    {
     "name": "stdout",
     "output_type": "stream",
     "text": [
      "Blue\n"
     ]
    }
   ],
   "source": [
    "import re\n",
    "\n",
    "testString = 'Yellow Blue Gold Green'\n",
    "print(re.search(r'Blue', testString).group(0))\n"
   ]
  },
  {
   "cell_type": "code",
   "execution_count": 28,
   "id": "c5cd2fdb",
   "metadata": {},
   "outputs": [
    {
     "name": "stdout",
     "output_type": "stream",
     "text": [
      "exam.txt\n",
      "None\n"
     ]
    }
   ],
   "source": [
    "# Define a function that returns the filename unchanged\n",
    "def identity(filename):\n",
    "    print(filename) \n",
    "\n",
    "# Create an empty dictionary to store the functions\n",
    "functions = {}\n",
    "\n",
    "# Store the 'identity' function in the dictionary with the key 'id'\n",
    "functions[\"id\"] = identity\n",
    "\n",
    "# Call the 'identity' function using the dictionary\n",
    "result = functions[\"id\"](\"exam.txt\")\n",
    "\n",
    "# Print the result\n",
    "print(result)  # Output: example.txt\n"
   ]
  },
  {
   "cell_type": "code",
   "execution_count": 30,
   "id": "a990435b",
   "metadata": {},
   "outputs": [
    {
     "name": "stdout",
     "output_type": "stream",
     "text": [
      "dd.txt\n"
     ]
    }
   ],
   "source": [
    "functions[\"id\"](\"dd.txt\")"
   ]
  },
  {
   "cell_type": "code",
   "execution_count": 31,
   "id": "76e09ef9",
   "metadata": {},
   "outputs": [
    {
     "name": "stdout",
     "output_type": "stream",
     "text": [
      "Hello Dear User. You passed the test with the score of 95.\n"
     ]
    }
   ],
   "source": [
    "servicetesting = (\"Dear\", \"User\", 95)\n",
    "info_string = \"Hello {} {}. You passed the test with the score of {}.\".format(*servicetesting)\n",
    "print(info_string)\n"
   ]
  },
  {
   "cell_type": "code",
   "execution_count": 37,
   "id": "d8d05a77",
   "metadata": {},
   "outputs": [
    {
     "ename": "SyntaxError",
     "evalue": "invalid syntax. Perhaps you forgot a comma? (4221702403.py, line 2)",
     "output_type": "error",
     "traceback": [
      "\u001b[1;36m  Cell \u001b[1;32mIn[37], line 2\u001b[1;36m\u001b[0m\n\u001b[1;33m    print(servicestesting.format(Hello %s %s. You passed the test with the score of %s.))\u001b[0m\n\u001b[1;37m                                 ^\u001b[0m\n\u001b[1;31mSyntaxError\u001b[0m\u001b[1;31m:\u001b[0m invalid syntax. Perhaps you forgot a comma?\n"
     ]
    }
   ],
   "source": [
    "servicestesting = (\"Dear\", \"User\", 95)\n",
    "print(servicestesting.format(Hello %s %s. You passed the test with the score of %s.))"
   ]
  },
  {
   "cell_type": "code",
   "execution_count": 45,
   "id": "bed5f166",
   "metadata": {},
   "outputs": [
    {
     "ename": "TypeError",
     "evalue": "'str' object is not callable",
     "output_type": "error",
     "traceback": [
      "\u001b[1;31m---------------------------------------------------------------------------\u001b[0m",
      "\u001b[1;31mTypeError\u001b[0m                                 Traceback (most recent call last)",
      "Cell \u001b[1;32mIn[45], line 3\u001b[0m\n\u001b[0;32m      1\u001b[0m servicetesting \u001b[38;5;241m=\u001b[39m (\u001b[38;5;124m\"\u001b[39m\u001b[38;5;124mDear\u001b[39m\u001b[38;5;124m\"\u001b[39m, \u001b[38;5;124m\"\u001b[39m\u001b[38;5;124mUser\u001b[39m\u001b[38;5;124m\"\u001b[39m, \u001b[38;5;241m95\u001b[39m)\n\u001b[0;32m      2\u001b[0m info_string \u001b[38;5;241m=\u001b[39m \u001b[38;5;124m\"\u001b[39m\u001b[38;5;124mHello \u001b[39m\u001b[38;5;132;01m%s\u001b[39;00m\u001b[38;5;124m. You passed the test with the score of \u001b[39m\u001b[38;5;132;01m%s\u001b[39;00m\u001b[38;5;124m.\u001b[39m\u001b[38;5;124m\"\u001b[39m\n\u001b[1;32m----> 3\u001b[0m \u001b[43minfo_string\u001b[49m\u001b[43m \u001b[49m\u001b[43m(\u001b[49m\u001b[43mservicetesting\u001b[49m\u001b[43m)\u001b[49m\n",
      "\u001b[1;31mTypeError\u001b[0m: 'str' object is not callable"
     ]
    }
   ],
   "source": [
    "servicetesting = (\"Dear\", \"User\", 95)\n",
    "info_string = \"Hello %s. You passed the test with the score of %s.\"\n",
    "info_string (servicetesting)"
   ]
  },
  {
   "cell_type": "code",
   "execution_count": 44,
   "id": "905195a2",
   "metadata": {},
   "outputs": [
    {
     "name": "stdout",
     "output_type": "stream",
     "text": [
      "Hello Dear User. You passed the test with the score of 95.\n"
     ]
    }
   ],
   "source": [
    "servicestesting = (\"Dear\", \"User\", 95) \n",
    "info_string = \"Hello %s %s. You passed the test with the score of %s.\"\n",
    "print (info_string % servicestesting)\n"
   ]
  },
  {
   "cell_type": "code",
   "execution_count": 43,
   "id": "3653a403",
   "metadata": {},
   "outputs": [
    {
     "ename": "AttributeError",
     "evalue": "'str' object has no attribute 'servicestesting'",
     "output_type": "error",
     "traceback": [
      "\u001b[1;31m---------------------------------------------------------------------------\u001b[0m",
      "\u001b[1;31mAttributeError\u001b[0m                            Traceback (most recent call last)",
      "Cell \u001b[1;32mIn[43], line 3\u001b[0m\n\u001b[0;32m      1\u001b[0m servicestesting \u001b[38;5;241m=\u001b[39m (\u001b[38;5;124m\"\u001b[39m\u001b[38;5;124mDear\u001b[39m\u001b[38;5;124m\"\u001b[39m, \u001b[38;5;124m\"\u001b[39m\u001b[38;5;124mUser\u001b[39m\u001b[38;5;124m\"\u001b[39m, \u001b[38;5;241m95\u001b[39m)\n\u001b[0;32m      2\u001b[0m info_string \u001b[38;5;241m=\u001b[39m \u001b[38;5;124m\"\u001b[39m\u001b[38;5;124mHello \u001b[39m\u001b[38;5;132;01m%s\u001b[39;00m\u001b[38;5;124m \u001b[39m\u001b[38;5;132;01m%s\u001b[39;00m\u001b[38;5;124m. You passed the test with the score of \u001b[39m\u001b[38;5;132;01m%s\u001b[39;00m\u001b[38;5;124m.\u001b[39m\u001b[38;5;124m\"\u001b[39m\n\u001b[1;32m----> 3\u001b[0m \u001b[38;5;28mprint\u001b[39m (\u001b[38;5;28mstr\u001b[39m\u001b[38;5;241m.\u001b[39mformat (\u001b[43minfo_string\u001b[49m\u001b[38;5;241;43m.\u001b[39;49m\u001b[43mservicestesting\u001b[49m))\n",
      "\u001b[1;31mAttributeError\u001b[0m: 'str' object has no attribute 'servicestesting'"
     ]
    }
   ],
   "source": [
    "servicestesting = (\"Dear\", \"User\", 95)\n",
    "info_string = \"Hello %s %s. You passed the test with the score of %s.\"\n",
    "print (str.format (info_string.servicestesting))\n"
   ]
  },
  {
   "cell_type": "code",
   "execution_count": 41,
   "id": "9545d7bd",
   "metadata": {},
   "outputs": [
    {
     "data": {
      "text/plain": [
       "'Hello %s %s. You passed the test with the score of %s.'"
      ]
     },
     "execution_count": 41,
     "metadata": {},
     "output_type": "execute_result"
    }
   ],
   "source": [
    "servicetesting = (\"Dear\", \"User\", 95)\n",
    "format(info_string.format(\"Hello %s %s. You passed the test with the score of \\n.\"))"
   ]
  },
  {
   "cell_type": "code",
   "execution_count": 50,
   "id": "2b5a6ee2",
   "metadata": {},
   "outputs": [
    {
     "name": "stdout",
     "output_type": "stream",
     "text": [
      "9\n",
      "9\n"
     ]
    }
   ],
   "source": [
    "import foo\n",
    "\n",
    "print(foo.var)\n",
    "foo.var = 9\n",
    "print(foo.var)"
   ]
  },
  {
   "cell_type": "code",
   "execution_count": 52,
   "id": "5567acf2",
   "metadata": {},
   "outputs": [
    {
     "name": "stdout",
     "output_type": "stream",
     "text": [
      "9\n"
     ]
    }
   ],
   "source": [
    "import foo\n",
    "print(foo.var)"
   ]
  },
  {
   "cell_type": "code",
   "execution_count": 54,
   "id": "3d71c861",
   "metadata": {
    "scrolled": true
   },
   "outputs": [
    {
     "data": {
      "text/plain": [
       "<module 'foo' from 'S:\\\\github\\\\Python-Example\\\\foo.py'>"
      ]
     },
     "execution_count": 54,
     "metadata": {},
     "output_type": "execute_result"
    }
   ],
   "source": [
    "import importlib\n",
    "importlib.reload(foo)"
   ]
  },
  {
   "cell_type": "code",
   "execution_count": 55,
   "id": "81363507",
   "metadata": {
    "scrolled": true
   },
   "outputs": [
    {
     "name": "stdout",
     "output_type": "stream",
     "text": [
      "7\n"
     ]
    }
   ],
   "source": [
    "print(foo.var)"
   ]
  },
  {
   "cell_type": "code",
   "execution_count": 5,
   "id": "411a11c3",
   "metadata": {},
   "outputs": [],
   "source": [
    "for n in range(2, 10):\n",
    "    for x in range(2, n):\n",
    "        print(\"x\",x)\n",
    "        if n % x == 0:\n",
    "            break\n",
    "    else:\n",
    "        print(n)\n"
   ]
  },
  {
   "cell_type": "code",
   "execution_count": 59,
   "id": "012146f5",
   "metadata": {},
   "outputs": [
    {
     "name": "stdout",
     "output_type": "stream",
     "text": [
      "[6, 7, 8, 9, 10, 11, 12, 13, 14, 15]\n"
     ]
    }
   ],
   "source": [
    "# Original list\n",
    "lst = [1, 2, 3, 4, 5, 6, 7, 8, 9, 10, 11, 12, 13, 14, 15]\n",
    "\n",
    "# Extract the last 10 values using slicing\n",
    "last_10_values = lst[-10:]\n",
    "\n",
    "print(last_10_values)  # Output: [6, 7, 8, 9, 10, 11, 12, 13, 14, 15]\n"
   ]
  },
  {
   "cell_type": "code",
   "execution_count": 67,
   "id": "3bc670a4",
   "metadata": {},
   "outputs": [
    {
     "name": "stdout",
     "output_type": "stream",
     "text": [
      "The course is titled Python Programming and my result is 65\n",
      "The course is titled Python Programming and my result is 65\n",
      "The course is titled Python Programming and my result is 65\n"
     ]
    }
   ],
   "source": [
    "title=\"Python Programming\"\n",
    "result = 65\n",
    "res_show = f'The course is titled {title} and my result is {result}' \n",
    "print (res_show)\n",
    "print (F'The course is titled {title} and my result is {result}')\n",
    "title = \"C++ Programming\"\n",
    "result = 85\n",
    "print (res_show)"
   ]
  },
  {
   "cell_type": "code",
   "execution_count": 68,
   "id": "dfc34ed0",
   "metadata": {},
   "outputs": [],
   "source": [
    "result = [l for l in open(\"error.txt\") if l.startswith(\"error: \")]"
   ]
  },
  {
   "cell_type": "code",
   "execution_count": 69,
   "id": "84a83330",
   "metadata": {},
   "outputs": [
    {
     "name": "stdout",
     "output_type": "stream",
     "text": [
      "['error: 1\\n', 'error: 2\\n', 'error: 4']\n"
     ]
    }
   ],
   "source": [
    "print(result)"
   ]
  },
  {
   "cell_type": "code",
   "execution_count": 70,
   "id": "42264cc0",
   "metadata": {},
   "outputs": [
    {
     "name": "stdout",
     "output_type": "stream",
     "text": [
      "5\n"
     ]
    }
   ],
   "source": [
    "x = 1\n",
    "y = 0\n",
    "z = 0  # Corrected assignment here, assuming it's supposed to be a variable\n",
    "result = 2  # Assuming it's a variable\n",
    "\n",
    "try:\n",
    "    z = z + 1\n",
    "    result = x / y\n",
    "    z = z + 1\n",
    "except ZeroDivisionError:\n",
    "    z = z + result\n",
    "else:\n",
    "    z = z + 1\n",
    "finally:\n",
    "    z = z + 1\n",
    "\n",
    "z = z + 1\n",
    "print(z)\n"
   ]
  },
  {
   "cell_type": "code",
   "execution_count": 71,
   "id": "cc217e8a",
   "metadata": {},
   "outputs": [
    {
     "name": "stdout",
     "output_type": "stream",
     "text": [
      "300\n"
     ]
    }
   ],
   "source": [
    "i = 150\n",
    "j = 300\n",
    "\n",
    "if ((True == False) and (False in (False,))) == True:\n",
    "    print(i)\n",
    "elif (True == False) in (False,):\n",
    "    print(j)\n",
    "else:\n",
    "    print(\"No arithmetical operator proceeded\")\n"
   ]
  },
  {
   "cell_type": "code",
   "execution_count": 72,
   "id": "18ecefbf",
   "metadata": {
    "scrolled": true
   },
   "outputs": [
    {
     "data": {
      "text/plain": [
       "(False,)"
      ]
     },
     "execution_count": 72,
     "metadata": {},
     "output_type": "execute_result"
    }
   ],
   "source": [
    "(False,)"
   ]
  },
  {
   "cell_type": "code",
   "execution_count": 74,
   "id": "e8514e41",
   "metadata": {
    "scrolled": true
   },
   "outputs": [
    {
     "data": {
      "text/plain": [
       "True"
      ]
     },
     "execution_count": 74,
     "metadata": {},
     "output_type": "execute_result"
    }
   ],
   "source": [
    "(True == False) in (False,)"
   ]
  },
  {
   "cell_type": "code",
   "execution_count": 77,
   "id": "eb4e0a92",
   "metadata": {},
   "outputs": [
    {
     "name": "stdout",
     "output_type": "stream",
     "text": [
      "1 6 3\n"
     ]
    }
   ],
   "source": [
    "x = 1\n",
    "y = 2\n",
    "z = 3\n",
    "\n",
    "def bar(xx):\n",
    "    global y\n",
    "    x = 4\n",
    "    xx = 5\n",
    "    y = 6\n",
    "    z = 7\n",
    "\n",
    "bar(x)\n",
    "print(x,y,z)"
   ]
  },
  {
   "cell_type": "code",
   "execution_count": 85,
   "id": "3c1f54ed",
   "metadata": {
    "scrolled": true
   },
   "outputs": [
    {
     "name": "stdout",
     "output_type": "stream",
     "text": [
      "METHOD\n",
      "METHOD\n"
     ]
    }
   ],
   "source": [
    "from string import *\n",
    "\n",
    "method = \"METHODS\"\n",
    "\n",
    "def x(methods):\n",
    "    method = str.swapcase(methods)\n",
    "    print(method)\n",
    "    print((\"%(method)s\" % locals()))\n",
    "\n",
    "methods = str.swapcase(method[:-1])\n",
    "x(methods)\n"
   ]
  },
  {
   "cell_type": "code",
   "execution_count": 87,
   "id": "90d8e2d3",
   "metadata": {},
   "outputs": [
    {
     "data": {
      "text/plain": [
       "'Services: Programming, Python'"
      ]
     },
     "execution_count": 87,
     "metadata": {},
     "output_type": "execute_result"
    }
   ],
   "source": [
    "exampleservices = {'OnlineTesting': 'Programming', 'ProgrammingLanguages': 'Python'}\n",
    "'Services: {OnlineTesting}, {ProgrammingLanguages}'.format(**exampleservices)"
   ]
  },
  {
   "cell_type": "code",
   "execution_count": 91,
   "id": "1082e637",
   "metadata": {
    "scrolled": true
   },
   "outputs": [
    {
     "ename": "AttributeError",
     "evalue": "'list' object has no attribute 'format'",
     "output_type": "error",
     "traceback": [
      "\u001b[1;31m---------------------------------------------------------------------------\u001b[0m",
      "\u001b[1;31mAttributeError\u001b[0m                            Traceback (most recent call last)",
      "Cell \u001b[1;32mIn[91], line 2\u001b[0m\n\u001b[0;32m      1\u001b[0m exampleservices \u001b[38;5;241m=\u001b[39m [\u001b[38;5;124m'\u001b[39m\u001b[38;5;124mOnlineTesting: Programming\u001b[39m\u001b[38;5;124m'\u001b[39m, \u001b[38;5;124m'\u001b[39m\u001b[38;5;124mProgramming Languages: Python\u001b[39m\u001b[38;5;124m'\u001b[39m]\n\u001b[1;32m----> 2\u001b[0m \u001b[43mexampleservices\u001b[49m\u001b[38;5;241;43m.\u001b[39;49m\u001b[43mformat\u001b[49m[\u001b[38;5;124m'\u001b[39m\u001b[38;5;124mServices: \u001b[39m\u001b[38;5;132;01m{OnlineTesting}\u001b[39;00m\u001b[38;5;124m, \u001b[39m\u001b[38;5;124m{\u001b[39m\u001b[38;5;124mProgramming Languages}\u001b[39m\u001b[38;5;124m'\u001b[39m]\n",
      "\u001b[1;31mAttributeError\u001b[0m: 'list' object has no attribute 'format'"
     ]
    }
   ],
   "source": [
    "exampleservices = ['OnlineTesting: Programming', 'Programming Languages: Python']\n",
    "exampleservices.format['Services: {OnlineTesting}, {Programming Languages}']"
   ]
  },
  {
   "cell_type": "code",
   "execution_count": 93,
   "id": "739f9fa1",
   "metadata": {},
   "outputs": [
    {
     "ename": "SyntaxError",
     "evalue": "invalid syntax (783338368.py, line 1)",
     "output_type": "error",
     "traceback": [
      "\u001b[1;36m  Cell \u001b[1;32mIn[93], line 1\u001b[1;36m\u001b[0m\n\u001b[1;33m    exampleservices = ('OnlineTesting': 'Programming', 'Programming Languages': 'Python')\u001b[0m\n\u001b[1;37m                                      ^\u001b[0m\n\u001b[1;31mSyntaxError\u001b[0m\u001b[1;31m:\u001b[0m invalid syntax\n"
     ]
    }
   ],
   "source": [
    "exampleservices = ('OnlineTesting': 'Programming', 'Programming Languages': 'Python')\n",
    "format(exampleservices('Services {OnlineTesting}, {Programming Languages}'))"
   ]
  }
 ],
 "metadata": {
  "kernelspec": {
   "display_name": "Python 3 (ipykernel)",
   "language": "python",
   "name": "python3"
  },
  "language_info": {
   "codemirror_mode": {
    "name": "ipython",
    "version": 3
   },
   "file_extension": ".py",
   "mimetype": "text/x-python",
   "name": "python",
   "nbconvert_exporter": "python",
   "pygments_lexer": "ipython3",
   "version": "3.11.3"
  }
 },
 "nbformat": 4,
 "nbformat_minor": 5
}
