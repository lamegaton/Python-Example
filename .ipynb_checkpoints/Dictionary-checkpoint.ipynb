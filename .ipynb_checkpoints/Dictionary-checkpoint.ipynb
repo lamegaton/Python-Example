{
 "cells": [
  {
   "cell_type": "markdown",
   "id": "55a09cff",
   "metadata": {},
   "source": [
    "# Dictionary"
   ]
  },
  {
   "cell_type": "markdown",
   "id": "ec63bdda",
   "metadata": {},
   "source": [
    "**Python Dictionaries:**\n",
    "Dictionaries in Python are unordered collections of key-value pairs. They are used to store and manage data where you associate a value with a unique key. Dictionaries are defined using curly braces `{}` and use a colon `:` to separate keys from values.\n",
    "\n",
    "Here's a basic example of creating a dictionary:\n",
    "\n",
    "```python\n",
    "# Creating a dictionary\n",
    "student = {\n",
    "    \"name\": \"John\",\n",
    "    \"age\": 20,\n",
    "    \"major\": \"Computer Science\"\n",
    "}\n",
    "```\n",
    "\n",
    "**Setting Values:**\n",
    "You can set values in a dictionary by assigning a value to a key using the assignment operator `=`.\n",
    "\n",
    "```python\n",
    "# Modifying values\n",
    "student[\"age\"] = 21\n",
    "student[\"major\"] = \"Data Science\"\n",
    "```\n",
    "\n",
    "**Using Default Values:**\n",
    "Python's `dict.get()` method is commonly used to retrieve a value associated with a key. If the key is not present, you can provide a default value.\n",
    "\n",
    "```python\n",
    "# Using default values\n",
    "grade = student.get(\"grade\", \"Not Available\")\n",
    "print(\"Grade:\", grade)  # Output: Grade: Not Available\n",
    "```\n",
    "\n",
    "**Iterating Through a Dictionary:**\n",
    "You can iterate through the keys, values, or key-value pairs of a dictionary using loops.\n",
    "\n",
    "```python\n",
    "# Iterating through keys\n",
    "for key in student:\n",
    "    print(\"Key:\", key, \"Value:\", student[key])\n",
    "\n",
    "# Iterating through values\n",
    "for value in student.values():\n",
    "    print(\"Value:\", value)\n",
    "\n",
    "# Iterating through key-value pairs\n",
    "for key, value in student.items():\n",
    "    print(\"Key:\", key, \"Value:\", value)\n",
    "```\n",
    "\n",
    "**Adding Items to a Dictionary:**\n",
    "You can add items to a dictionary by assigning a value to a new key.\n",
    "\n",
    "```python\n",
    "# Adding a new item\n",
    "student[\"gpa\"] = 3.8\n",
    "```\n",
    "\n",
    "Remember that dictionaries are mutable, which means you can change their contents after they've been created.\n",
    "\n",
    "These are some fundamental aspects of working with Python dictionaries. They provide an efficient and flexible way to store and manage data using key-value pairs."
   ]
  },
  {
   "cell_type": "markdown",
   "id": "18768bec",
   "metadata": {},
   "source": []
  },
  {
   "cell_type": "code",
   "execution_count": 3,
   "id": "5bbb2c38",
   "metadata": {},
   "outputs": [],
   "source": [
    "# Creating a dictionary\n",
    "student = {\n",
    "    \"name\": \"John\",\n",
    "    \"age\": 20,\n",
    "    \"major\": \"Computer Science\"\n",
    "}"
   ]
  },
  {
   "cell_type": "code",
   "execution_count": 4,
   "id": "b2ad6d7e",
   "metadata": {},
   "outputs": [],
   "source": [
    "# Modifying values\n",
    "student[\"age\"] = 21\n",
    "student[\"major\"] = \"Data Science\""
   ]
  },
  {
   "cell_type": "code",
   "execution_count": 5,
   "id": "e3686c61",
   "metadata": {},
   "outputs": [
    {
     "name": "stdout",
     "output_type": "stream",
     "text": [
      "Grade: Not Available\n"
     ]
    }
   ],
   "source": [
    "# Using default values\n",
    "grade = student.get(\"grade\", \"Not Available\")\n",
    "print(\"Grade:\", grade)  # Output: Grade: Not Available"
   ]
  },
  {
   "cell_type": "code",
   "execution_count": 6,
   "id": "dfaefdc7",
   "metadata": {},
   "outputs": [
    {
     "name": "stdout",
     "output_type": "stream",
     "text": [
      "{'name': 'John', 'age': 21, 'major': 'Data Science'}\n"
     ]
    }
   ],
   "source": [
    "print(student)"
   ]
  },
  {
   "cell_type": "code",
   "execution_count": 8,
   "id": "14934354",
   "metadata": {},
   "outputs": [],
   "source": [
    "student[\"gpa\"] = 3.2\n"
   ]
  },
  {
   "cell_type": "code",
   "execution_count": 9,
   "id": "2d31226d",
   "metadata": {},
   "outputs": [
    {
     "name": "stdout",
     "output_type": "stream",
     "text": [
      "{'name': 'John', 'age': 21, 'major': 'Data Science', 'gpa': 3.2}\n"
     ]
    }
   ],
   "source": [
    "print(student)"
   ]
  },
  {
   "cell_type": "markdown",
   "id": "365e71ab",
   "metadata": {},
   "source": [
    "Dictionary uses referecen"
   ]
  },
  {
   "cell_type": "code",
   "execution_count": 10,
   "id": "6376a411",
   "metadata": {},
   "outputs": [
    {
     "name": "stdout",
     "output_type": "stream",
     "text": [
      "7\n"
     ]
    }
   ],
   "source": [
    "my_dict = {'a': [1, 2, 3], 'b': [4, 5, 6]}\n",
    "\n",
    "\n",
    "new_dict = my_dict\n",
    "new_dict['a'][0] = 7\n",
    "\n",
    "print(my_dict['a'][0])\n"
   ]
  }
 ],
 "metadata": {
  "kernelspec": {
   "display_name": "Python 3 (ipykernel)",
   "language": "python",
   "name": "python3"
  },
  "language_info": {
   "codemirror_mode": {
    "name": "ipython",
    "version": 3
   },
   "file_extension": ".py",
   "mimetype": "text/x-python",
   "name": "python",
   "nbconvert_exporter": "python",
   "pygments_lexer": "ipython3",
   "version": "3.11.3"
  }
 },
 "nbformat": 4,
 "nbformat_minor": 5
}
