{
 "cells": [
  {
   "cell_type": "markdown",
   "id": "7c8518ab",
   "metadata": {},
   "source": [
    "# Slicing\n",
    "\n",
    "### Slicing a String\n",
    "You can extract a substring from a string using slicing.\n",
    "\n",
    "```python\n",
    "my_string = \"Hello, World!\"\n",
    "substring = my_string[7:13]\n",
    "print(substring) # Output: \"World!\"\n",
    "```\n",
    "\n",
    "### Slicing a List\n",
    "You can extract a sub-list from a list using slicing.\n",
    "\n",
    "```python\n",
    "my_list = [10, 20, 30, 40, 50]\n",
    "sub_list = my_list[1:4]\n",
    "print(sub_list) # Output: [20, 30, 40]\n",
    "```\n",
    "\n",
    "### Slicing with Steps\n",
    "You can also provide a step value in the slicing, which will take every nth value.\n",
    "\n",
    "```python\n",
    "numbers = [1, 2, 3, 4, 5, 6, 7, 8, 9]\n",
    "even_numbers = numbers[1::2]\n",
    "print(even_numbers) # Output: [2, 4, 6, 8]\n",
    "```\n",
    "\n",
    "### Omitting Values\n",
    "You can omit the start, stop, or step value, and Python will use default values.\n",
    "\n",
    "```python\n",
    "numbers = [1, 2, 3, 4, 5]\n",
    "first_three = numbers[:3]\n",
    "print(first_three) # Output: [1, 2, 3]\n",
    "\n",
    "last_two = numbers[-2:]\n",
    "print(last_two) # Output: [4, 5]\n",
    "```\n",
    "\n",
    "Slicing is a very flexible and powerful technique in Python, allowing you to easily manipulate and extract portions of your data."
   ]
  },
  {
   "cell_type": "markdown",
   "id": "ebe8003e",
   "metadata": {},
   "source": [
    "## Understanding the colon \":\" in Python"
   ]
  },
  {
   "cell_type": "markdown",
   "id": "62ec9a5a",
   "metadata": {},
   "source": [
    "The colon `:` in a slicing operation in Python helps you define the start, stop, and step values for the slicing. Here's how you can interpret it:\n",
    "\n",
    "- `start`: The index at which the slice starts (inclusive). If omitted, it defaults to the beginning of the sequence.\n",
    "- `stop`: The index at which the slice ends (exclusive). If omitted, it defaults to the end of the sequence.\n",
    "- `step`: The step value determines the increment between each index for slicing. If omitted, it defaults to 1.\n",
    "\n",
    "You can use the colon `:` to define these values in the format `[start:stop:step]`. Here's what it means:\n",
    "\n",
    "- `[start:]`: All elements from the start index to the end of the sequence.\n",
    "- `[:stop]`: All elements from the beginning of the sequence to the stop index (exclusive).\n",
    "- `[::step]`: All elements from the beginning to the end of the sequence with a specified step value.\n",
    "- `[start:stop]`: All elements from the start index to the stop index (exclusive).\n",
    "- `[start:stop:step]`: All elements from the start index to the stop index (exclusive) with a specified step value.\n",
    "\n",
    "If any of these values are omitted, they default to the logical values (start at the beginning, stop at the end, step by 1).\n",
    "\n",
    "Here's an example using all three parts:\n",
    "\n",
    "```python\n",
    "my_list = [0, 1, 2, 3, 4, 5, 6, 7, 8, 9]\n",
    "sliced = my_list[2:8:2] # start at index 2, stop at index 8, step by 2\n",
    "print(sliced) # Output: [2, 4, 6]\n",
    "```\n",
    "\n",
    "I hope this clears up how the colon `:` is used in slicing in Python!"
   ]
  },
  {
   "cell_type": "code",
   "execution_count": 4,
   "id": "e6508aa8",
   "metadata": {},
   "outputs": [
    {
     "name": "stdout",
     "output_type": "stream",
     "text": [
      "[2, 4, 6]\n"
     ]
    }
   ],
   "source": [
    "lst = [0, 1, 2, 3, 4, 5, 6, 7, 8, 9]\n",
    "sliced = lst[2:8:2] # start at index 2, stop at index 8, step by 2\n",
    "print(sliced) # Output: [2, 4, 6]"
   ]
  },
  {
   "cell_type": "code",
   "execution_count": 6,
   "id": "743143be",
   "metadata": {},
   "outputs": [
    {
     "data": {
      "text/plain": [
       "[7, 8, 9]"
      ]
     },
     "execution_count": 6,
     "metadata": {},
     "output_type": "execute_result"
    }
   ],
   "source": [
    "# get the last 3, according to the above definition\n",
    "# this means start from position -3\n",
    "lst[-3:]"
   ]
  },
  {
   "cell_type": "markdown",
   "id": "0787c7c2",
   "metadata": {},
   "source": [
    "# More on slicing\n",
    "### 1. Basic Slicing\n",
    "Slicing a range of elements from a list.\n",
    "\n",
    "```python\n",
    "numbers = [0, 1, 2, 3, 4, 5]\n",
    "sliced = numbers[1:4]\n",
    "print(sliced) # Output: [1, 2, 3]\n",
    "```\n",
    "\n",
    "### 2. Omitting Start or End\n",
    "When you omit the start or end, it defaults to the beginning or the end of the sequence.\n",
    "\n",
    "```python\n",
    "numbers = [0, 1, 2, 3, 4, 5]\n",
    "sliced_start = numbers[:4]\n",
    "print(sliced_start) # Output: [0, 1, 2, 3]\n",
    "\n",
    "sliced_end = numbers[2:]\n",
    "print(sliced_end) # Output: [2, 3, 4, 5]\n",
    "```\n",
    "\n",
    "### 3. Using Negative Indexes\n",
    "Negative indexes count from the end of the sequence.\n",
    "\n",
    "```python\n",
    "numbers = [0, 1, 2, 3, 4, 5]\n",
    "sliced_negative = numbers[-4:-1]\n",
    "print(sliced_negative) # Output: [2, 3, 4]\n",
    "```\n",
    "\n",
    "### 4. Step Value\n",
    "Including a step value to select every nth element.\n",
    "\n",
    "```python\n",
    "numbers = [0, 1, 2, 3, 4, 5, 6, 7, 8, 9]\n",
    "sliced_step = numbers[1:8:2]\n",
    "print(sliced_step) # Output: [1, 3, 5, 7]\n",
    "```\n",
    "\n",
    "### 5. Reversing a Sequence\n",
    "You can reverse a sequence by setting the step value to -1.\n",
    "\n",
    "```python\n",
    "numbers = [0, 1, 2, 3, 4, 5]\n",
    "reversed_numbers = numbers[::-1]\n",
    "print(reversed_numbers) # Output: [5, 4, 3, 2, 1, 0]\n",
    "```\n",
    "\n",
    "### 6. Slicing Strings\n",
    "Slicing works with strings too.\n",
    "\n",
    "```python\n",
    "text = \"Hello, World!\"\n",
    "sliced_text = text[7:12]\n",
    "print(sliced_text) # Output: \"World\"\n",
    "```\n",
    "\n",
    "### 7. Combining Negative and Positive Indexes\n",
    "You can mix negative and positive indexes.\n",
    "\n",
    "```python\n",
    "numbers = [0, 1, 2, 3, 4, 5]\n",
    "sliced_mixed = numbers[1:-1]\n",
    "print(sliced_mixed) # Output: [1, 2, 3, 4]\n",
    "```\n",
    "\n",
    "Slicing is an extremely versatile tool in Python, and understanding how to use it effectively can greatly enhance your ability to manipulate sequences."
   ]
  },
  {
   "cell_type": "markdown",
   "id": "d888b6f9",
   "metadata": {},
   "source": [
    "# Quiz\n",
    "\n",
    "### Question 1\n",
    "Given the list `numbers = [5, 10, 15, 20, 25, 30]`, what will be the output of `numbers[1:4]`?\n",
    "\n",
    "a) `[5, 10, 15]`  \n",
    "b) `[10, 15, 20]`  \n",
    "c) `[10, 15, 20, 25]`  \n",
    "d) `[15, 20, 25]`  \n",
    "\n",
    "### Question 2\n",
    "What will be the output of `numbers[::-1]` for the same list as above?\n",
    "\n",
    "a) `[30, 25, 20, 15, 10, 5]`  \n",
    "b) `[5, 10, 15, 20, 25]`  \n",
    "c) `[30, 25, 20, 15, 10]`  \n",
    "d) `[5, 30, 25, 20, 15]`  \n",
    "\n",
    "### Question 3\n",
    "Consider the string `text = \"Python\"` and the slicing operation `text[2:5]`. What will be the output?\n",
    "\n",
    "a) `\"tho\"`  \n",
    "b) `\"yth\"`  \n",
    "c) `\"Pyt\"`  \n",
    "d) `\"hon\"`  \n",
    "\n",
    "### Question 4\n",
    "If `my_list = [1, 2, 3, 4, 5]`, what is the output of `my_list[:3]`?\n",
    "\n",
    "a) `[1, 2]`  \n",
    "b) `[1, 2, 3]`  \n",
    "c) `[2, 3, 4]`  \n",
    "d) `[3, 4, 5]`  \n",
    "\n",
    "### Question 5\n",
    "Given the list `values = [10, 20, 30, 40, 50, 60]`, what will be the output of `values[-3:-1]`?\n",
    "\n",
    "a) `[40, 50]`  \n",
    "b) `[30, 40]`  \n",
    "c) `[30, 40, 50]`  \n",
    "d) `[20, 30]`  \n",
    "\n"
   ]
  },
  {
   "cell_type": "markdown",
   "id": "36e288f6",
   "metadata": {},
   "source": [
    "1b,2a,3a,4b,5a\n",
    "Note that end index is exclusive"
   ]
  }
 ],
 "metadata": {
  "kernelspec": {
   "display_name": "Python 3 (ipykernel)",
   "language": "python",
   "name": "python3"
  },
  "language_info": {
   "codemirror_mode": {
    "name": "ipython",
    "version": 3
   },
   "file_extension": ".py",
   "mimetype": "text/x-python",
   "name": "python",
   "nbconvert_exporter": "python",
   "pygments_lexer": "ipython3",
   "version": "3.11.3"
  }
 },
 "nbformat": 4,
 "nbformat_minor": 5
}
