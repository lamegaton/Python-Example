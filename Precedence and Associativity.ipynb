{
 "cells": [
  {
   "cell_type": "markdown",
   "id": "dc76ff16",
   "metadata": {},
   "source": [
    "## Precedence and Associativity:\n",
    "\n",
    "Precedence and associativity define the order in which operators are evaluated in an expression with multiple operators. When an expression contains operators with different precedences, the operator with higher precedence is evaluated first. If multiple operators have the same precedence, their evaluation order is determined by their associativity.\n",
    "\n",
    "### Precedence:\n",
    "\n",
    "Precedence determines the priority of operators. Operators with higher precedence are evaluated before operators with lower precedence. For example, in the expression `2 + 3 * 4`, the multiplication operator (`*`) has higher precedence than the addition operator (`+`), so `3 * 4` is evaluated before adding `2`.\n",
    "\n",
    "### Associativity:\n",
    "\n",
    "Associativity is relevant when there are multiple operators with the same precedence. It determines the order in which these operators are evaluated. Operators can be left-associative or right-associative.\n",
    "\n",
    "- **Left-Associative:** Operators are evaluated from left to right. For example, in the expression `6 - 3 - 1`, the subtraction operators are left-associative, so `6 - 3` is evaluated first, and then the result is subtracted from `1`.\n",
    "- **Right-Associative:** Operators are evaluated from right to left. Right-associative operators are less common in Python.\n",
    "\n",
    "## Example:\n",
    "\n",
    "Let's look at an example to illustrate precedence and associativity:\n",
    "\n",
    "```python\n",
    "result = 5 + 10 / 2 * 3 - 2 ** 2\n",
    "```\n",
    "\n",
    "1. `2 ** 2` is evaluated first due to higher precedence of exponentiation.\n",
    "2. `10 / 2` is evaluated next due to higher precedence of division.\n",
    "3. `10 / 2 * 3` is evaluated next due to left-associativity of multiplication and division.\n",
    "4. `5 + (10 / 2 * 3)` is evaluated next due to lower precedence of addition and subtraction.\n",
    "5. `5 + 15 - 4` is evaluated last due to left-associativity of addition and subtraction.\n",
    "\n",
    "The final result is `16`.\n",
    "\n",
    "## Parentheses:\n",
    "\n",
    "You can use parentheses to explicitly control the order of evaluation in an expression. Expressions within parentheses are evaluated first.\n",
    "\n",
    "```python\n",
    "result = (5 + 10) / (2 * 3 - 2 ** 2)\n",
    "```\n",
    "\n",
    "In this example, the parentheses change the order of evaluation, resulting in a different outcome.\n",
    "\n",
    "Understanding the precedence and associativity of operators is essential for writing accurate and predictable code in Python."
   ]
  }
 ],
 "metadata": {
  "kernelspec": {
   "display_name": "Python 3 (ipykernel)",
   "language": "python",
   "name": "python3"
  },
  "language_info": {
   "codemirror_mode": {
    "name": "ipython",
    "version": 3
   },
   "file_extension": ".py",
   "mimetype": "text/x-python",
   "name": "python",
   "nbconvert_exporter": "python",
   "pygments_lexer": "ipython3",
   "version": "3.11.3"
  }
 },
 "nbformat": 4,
 "nbformat_minor": 5
}
