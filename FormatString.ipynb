{
 "cells": [
  {
   "cell_type": "code",
   "execution_count": 1,
   "id": "4c32f038",
   "metadata": {},
   "outputs": [
    {
     "name": "stdout",
     "output_type": "stream",
     "text": [
      "Hello, my name is Alice and I'm 30 years old.\n"
     ]
    }
   ],
   "source": [
    "name = \"Alice\"\n",
    "age = 30\n",
    "message = \"Hello, my name is {} and I'm {} years old.\".format(name, age)\n",
    "print(message)\n"
   ]
  },
  {
   "cell_type": "code",
   "execution_count": 2,
   "id": "ed94e892",
   "metadata": {},
   "outputs": [
    {
     "name": "stdout",
     "output_type": "stream",
     "text": [
      "Hello, my name is Bob and I'm 28 years old. Bob is my name.\n"
     ]
    }
   ],
   "source": [
    "name = \"Bob\"\n",
    "age = 28\n",
    "message = \"Hello, my name is {0} and I'm {1} years old. {0} is my name.\".format(name, age)\n",
    "print(message)\n"
   ]
  },
  {
   "cell_type": "code",
   "execution_count": 3,
   "id": "8e9231c3",
   "metadata": {},
   "outputs": [
    {
     "name": "stdout",
     "output_type": "stream",
     "text": [
      "Hello, my name is Charlie and I'm 25 years old.\n"
     ]
    }
   ],
   "source": [
    "data = {\"name\": \"Charlie\", \"age\": 25}\n",
    "message = \"Hello, my name is {name} and I'm {age} years old.\".format(**data)\n",
    "print(message)\n",
    "# ** is used for keywords"
   ]
  },
  {
   "cell_type": "code",
   "execution_count": 4,
   "id": "740ac33a",
   "metadata": {},
   "outputs": [
    {
     "name": "stdout",
     "output_type": "stream",
     "text": [
      "Hello, Sonic don't be sad, Pricess is here\n"
     ]
    }
   ],
   "source": [
    "data = {\"Sonic\", \"Pricess\"}\n",
    "message = \"Hello, {} don't be sad, {} is here\".format(*data)\n",
    "print(message)"
   ]
  },
  {
   "cell_type": "code",
   "execution_count": 4,
   "id": "3d688828",
   "metadata": {},
   "outputs": [
    {
     "name": "stdout",
     "output_type": "stream",
     "text": [
      "The value of pi is 3.14\n"
     ]
    }
   ],
   "source": [
    "pi_value = 3.14159\n",
    "formatted_value = \"The value of pi is {:.2f}\".format(pi_value)\n",
    "print(formatted_value)\n"
   ]
  },
  {
   "cell_type": "code",
   "execution_count": 5,
   "id": "2c41515a",
   "metadata": {},
   "outputs": [
    {
     "name": "stdout",
     "output_type": "stream",
     "text": [
      "Python     is fun!\n"
     ]
    }
   ],
   "source": [
    "word = \"Python\"\n",
    "formatted_word = \"{:<10} is fun!\".format(word)\n",
    "print(formatted_word)\n"
   ]
  },
  {
   "cell_type": "code",
   "execution_count": 6,
   "id": "1657d3f2",
   "metadata": {},
   "outputs": [
    {
     "name": "stdout",
     "output_type": "stream",
     "text": [
      "Hello, my name is David and I'm 22 years old.\n"
     ]
    }
   ],
   "source": [
    "name = \"David\"\n",
    "age = 22\n",
    "message = f\"Hello, my name is {name} and I'm {age} years old.\"\n",
    "print(message)\n"
   ]
  },
  {
   "cell_type": "code",
   "execution_count": 7,
   "id": "79c72fc1",
   "metadata": {},
   "outputs": [
    {
     "name": "stdout",
     "output_type": "stream",
     "text": [
      "I bought a book for $19.99\n"
     ]
    }
   ],
   "source": [
    "data = {\"item\": \"book\", \"price\": \"$19.99\"}\n",
    "message = \"I bought a {item} for {price}\".format_map(data)\n",
    "print(message)\n"
   ]
  },
  {
   "cell_type": "code",
   "execution_count": 10,
   "id": "af0186e5",
   "metadata": {},
   "outputs": [
    {
     "name": "stdout",
     "output_type": "stream",
     "text": [
      "Hello, my name is name='Emma' and I'm age=28 years old.\n"
     ]
    }
   ],
   "source": [
    "name = \"Emma\"\n",
    "age = 28\n",
    "message = F\"Hello, my name is {name=} and I'm {age=} years old.\"\n",
    "print(message)\n"
   ]
  },
  {
   "cell_type": "code",
   "execution_count": null,
   "id": "854dc41e",
   "metadata": {},
   "outputs": [],
   "source": []
  }
 ],
 "metadata": {
  "kernelspec": {
   "display_name": "Python 3 (ipykernel)",
   "language": "python",
   "name": "python3"
  },
  "language_info": {
   "codemirror_mode": {
    "name": "ipython",
    "version": 3
   },
   "file_extension": ".py",
   "mimetype": "text/x-python",
   "name": "python",
   "nbconvert_exporter": "python",
   "pygments_lexer": "ipython3",
   "version": "3.11.3"
  }
 },
 "nbformat": 4,
 "nbformat_minor": 5
}
