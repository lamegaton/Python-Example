{
 "cells": [
  {
   "cell_type": "code",
   "execution_count": 1,
   "id": "4bf9c9ea",
   "metadata": {},
   "outputs": [
    {
     "name": "stdout",
     "output_type": "stream",
     "text": [
      "['A', 'B', 'G', 'P']\n"
     ]
    }
   ],
   "source": [
    "words = ['apple', 'banana', 'grape', 'pear']\n",
    "print([w[0].upper() for w in words])\n"
   ]
  },
  {
   "cell_type": "code",
   "execution_count": 2,
   "id": "8d53a951",
   "metadata": {},
   "outputs": [
    {
     "name": "stdout",
     "output_type": "stream",
     "text": [
      "Example Test\n"
     ]
    }
   ],
   "source": [
    "class Example:\n",
    "    def example(self):\n",
    "        return self.test()\n",
    "    \n",
    "    def test(self):\n",
    "        return 'Example'\n",
    "\n",
    "class Test(Example):\n",
    "    def test(self):\n",
    "        return 'Test'\n",
    "\n",
    "# The print statement that produces the expected output:\n",
    "print(Example().test(), Test().test())  # Output: Example Test\n"
   ]
  },
  {
   "cell_type": "code",
   "execution_count": 5,
   "id": "e8c33c27",
   "metadata": {},
   "outputs": [
    {
     "data": {
      "text/plain": [
       "[0, 4, 8, 12]"
      ]
     },
     "execution_count": 5,
     "metadata": {},
     "output_type": "execute_result"
    }
   ],
   "source": [
    "def f1(x):\n",
    "    return x * 2\n",
    "\n",
    "def f2(x):\n",
    "    if x % 2 == 0:\n",
    "        return True\n",
    "\n",
    "lst = [0, 1, 2, 3, 4, 5, 6]\n",
    "result = [f1(x) for x in lst if f2(x)]\n",
    "result"
   ]
  },
  {
   "cell_type": "code",
   "execution_count": 6,
   "id": "6e6063b5",
   "metadata": {},
   "outputs": [
    {
     "data": {
      "text/plain": [
       "[0, 4, 8, 12]"
      ]
     },
     "execution_count": 6,
     "metadata": {},
     "output_type": "execute_result"
    }
   ],
   "source": [
    "list(map(f1, list(filter(f2, lst))))\n"
   ]
  },
  {
   "cell_type": "code",
   "execution_count": 9,
   "id": "86e5904a",
   "metadata": {},
   "outputs": [
    {
     "name": "stdout",
     "output_type": "stream",
     "text": [
      "95\n",
      "100\n"
     ]
    },
    {
     "ename": "AttributeError",
     "evalue": "'Services' object has no attribute '__getScore'",
     "output_type": "error",
     "traceback": [
      "\u001b[1;31m---------------------------------------------------------------------------\u001b[0m",
      "\u001b[1;31mAttributeError\u001b[0m                            Traceback (most recent call last)",
      "Cell \u001b[1;32mIn[9], line 15\u001b[0m\n\u001b[0;32m     13\u001b[0m servicesscore\u001b[38;5;241m.\u001b[39msetScore(\u001b[38;5;241m100\u001b[39m)\n\u001b[0;32m     14\u001b[0m servicesscore\u001b[38;5;241m.\u001b[39mgetScore()\n\u001b[1;32m---> 15\u001b[0m \u001b[38;5;28mprint\u001b[39m(\u001b[43mservicesscore\u001b[49m\u001b[38;5;241;43m.\u001b[39;49m\u001b[43m__getScore\u001b[49m)\n",
      "\u001b[1;31mAttributeError\u001b[0m: 'Services' object has no attribute '__getScore'"
     ]
    }
   ],
   "source": [
    "class Services(object):\n",
    "    def __init__(self):\n",
    "        self.testscore = 95\n",
    "    \n",
    "    def getScore(self):\n",
    "        print(self.testscore)\n",
    "    \n",
    "    def setScore(self, testscore):\n",
    "        self.testscore = testscore\n",
    "\n",
    "servicesscore = Services()\n",
    "servicesscore.getScore()\n",
    "servicesscore.setScore(100)\n",
    "servicesscore.getScore()\n",
    "print(servicesscore.__getScore)\n"
   ]
  },
  {
   "cell_type": "code",
   "execution_count": 10,
   "id": "5dba9dca",
   "metadata": {},
   "outputs": [
    {
     "name": "stdout",
     "output_type": "stream",
     "text": [
      "[4, 3, 2, 1, 0]\n"
     ]
    }
   ],
   "source": [
    "from functools import reduce\n",
    "\n",
    "x = reduce(lambda x, y: [y] + x, list(range(5)), [])\n",
    "\n",
    "print(x)\n"
   ]
  },
  {
   "cell_type": "code",
   "execution_count": 11,
   "id": "9a200f5e",
   "metadata": {},
   "outputs": [
    {
     "name": "stdout",
     "output_type": "stream",
     "text": [
      "300\n"
     ]
    }
   ],
   "source": [
    "i = 150\n",
    "j = 300\n",
    "\n",
    "if ((True == False) and (False in (False,))):\n",
    "    print(i) == True\n",
    "elif (True == False) in (False,):\n",
    "    print(j)\n",
    "else:\n",
    "    print(\"No arithmetical operator proceeded\")\n"
   ]
  },
  {
   "cell_type": "code",
   "execution_count": 12,
   "id": "c2ec8507",
   "metadata": {},
   "outputs": [
    {
     "name": "stdout",
     "output_type": "stream",
     "text": [
      "['64.3.17.208', '64.233.173.238', '164.233.173.198', '209.85.238.4', '216.239.51.98']\n"
     ]
    }
   ],
   "source": [
    "IPlist = ['209.85.238.4', '216.239.51.98', '164.233.173.198', '64.3.17.208', '64.233.173.238']\n",
    "\n",
    "tmp = [tuple(map(int, ip.split(\".\"))) for ip in IPlist]\n",
    "tmp.sort(reverse=False)\n",
    "IPlist = [\".\".join(map(str, address)) for address in tmp]\n",
    "\n",
    "print(IPlist)\n"
   ]
  },
  {
   "cell_type": "code",
   "execution_count": 17,
   "id": "9e47d561",
   "metadata": {},
   "outputs": [
    {
     "name": "stdout",
     "output_type": "stream",
     "text": [
      "[1, 2, 3, 4, 5, 7]\n",
      "None\n"
     ]
    }
   ],
   "source": [
    "before = [1, 2, 3, 4, 5]\n",
    "\n",
    "def bar(lst):\n",
    "    return lst.append(7)\n",
    "\n",
    "after = bar(before)\n",
    "\n",
    "print(before)\n",
    "print(after)\n"
   ]
  },
  {
   "cell_type": "code",
   "execution_count": 18,
   "id": "8d6eb22b",
   "metadata": {},
   "outputs": [
    {
     "name": "stdout",
     "output_type": "stream",
     "text": [
      "[('ws01', 'A1', '1p01'), ('ws04', 'Bob', '1p02'), ('ws12', 'Cara', '1p03')]\n"
     ]
    }
   ],
   "source": [
    "workstations = [\"ws01\", \"ws04\", \"ws12\", \"ws23\"]\n",
    "owners = [\"A1\", \"Bob\", \"Cara\", \"Dora\"]\n",
    "printers = [\"1p01\", \"1p02\", \"1p03\"]\n",
    "\n",
    "lis = []\n",
    "for ws, own, pr in zip(workstations, owners, printers):\n",
    "    tmp = (ws, own, pr)\n",
    "    lis.append(tmp)\n",
    "\n",
    "print(lis)\n"
   ]
  },
  {
   "cell_type": "code",
   "execution_count": 19,
   "id": "470c5f79",
   "metadata": {},
   "outputs": [
    {
     "name": "stdout",
     "output_type": "stream",
     "text": [
      "Testing Programming\n"
     ]
    }
   ],
   "source": [
    "class foo(object):\n",
    "    def __str__(self):\n",
    "        return 'Testing'\n",
    "    def __repr__(self):\n",
    "        return 'Programming'\n",
    "\n",
    "print('{0!s} {0!r}'.format(foo()))\n"
   ]
  },
  {
   "cell_type": "code",
   "execution_count": 20,
   "id": "a2174d29",
   "metadata": {},
   "outputs": [
    {
     "name": "stdout",
     "output_type": "stream",
     "text": [
      "['12345', '67890', '54321']\n"
     ]
    }
   ],
   "source": [
    "import re\n",
    "\n",
    "text = \"Some text with zip codes: 12345, 67890, and 54321.\"\n",
    "\n",
    "pat = re.compile(\"[0-9]{5}\")\n",
    "\n",
    "zip_codes = pat.findall(text)\n",
    "print(zip_codes)\n"
   ]
  }
 ],
 "metadata": {
  "kernelspec": {
   "display_name": "Python 3 (ipykernel)",
   "language": "python",
   "name": "python3"
  },
  "language_info": {
   "codemirror_mode": {
    "name": "ipython",
    "version": 3
   },
   "file_extension": ".py",
   "mimetype": "text/x-python",
   "name": "python",
   "nbconvert_exporter": "python",
   "pygments_lexer": "ipython3",
   "version": "3.11.3"
  }
 },
 "nbformat": 4,
 "nbformat_minor": 5
}
