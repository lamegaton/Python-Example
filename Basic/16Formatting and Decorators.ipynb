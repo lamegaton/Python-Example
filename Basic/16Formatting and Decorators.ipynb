{
 "cells": [
  {
   "cell_type": "markdown",
   "id": "4c8376b8",
   "metadata": {},
   "source": [
    "## Decorators in Python:\n",
    "\n",
    "Decorators are a powerful and advanced feature in Python that allow you to dynamically modify or enhance the behavior of functions, methods, or classes without modifying their source code. Decorators are often used for tasks like logging, authentication, caching, and more.\n",
    "\n",
    "A decorator is a function that takes another function (or method) as its argument, adds some functionality to it, and returns the modified function. Decorators are applied using the `@decorator_name` syntax.\n",
    "\n",
    "We usually put decorator on top of a function, like putting a hat on top of it.\n",
    "\n",
    "### Creating a Decorator:\n",
    "\n",
    "Here's a basic example of a decorator that measures the time taken by a function to execute:\n",
    "\n",
    "```python\n",
    "import time\n",
    "\n",
    "def timing_decorator(func):\n",
    "    def wrapper(*args, **kwargs):\n",
    "        start_time = time.time()\n",
    "        result = func(*args, **kwargs)\n",
    "        end_time = time.time()\n",
    "        print(f\"{func.__name__} took {end_time - start_time} seconds to execute.\")\n",
    "        return result\n",
    "    return wrapper\n",
    "\n",
    "@timing_decorator\n",
    "def slow_function():\n",
    "    time.sleep(2)\n",
    "\n",
    "slow_function()  # This will print the execution time of slow_function\n",
    "```\n",
    "\n",
    "More on arg and kwarg: https://book.pythontips.com/en/latest/args_and_kwargs.html. Argument take one argument as a variable, a list, or dictionary. Kwarg or Keyword argument take keyword such as {greeting_en:\"hello\"}, {greeting_vn:\"xin chào\"}\n",
    "\n",
    "In this example, the `timing_decorator` function is a decorator that wraps the provided function (`func`) with additional timing functionality. When `slow_function` is called, it's actually the modified `wrapper` function that's executed, which calculates and prints the execution time.\n",
    "\n",
    "### Chaining Decorators:\n",
    "\n",
    "You can apply multiple decorators to a single function. The order of decorator application matters, as they are applied from the innermost to the outermost decorator.\n",
    "\n",
    "```python\n",
    "def uppercase_decorator(func):\n",
    "    def wrapper(*args, **kwargs):\n",
    "        result = func(*args, **kwargs)\n",
    "        return result.upper()\n",
    "    return wrapper\n",
    "\n",
    "@uppercase_decorator\n",
    "@timing_decorator\n",
    "def greet(name):\n",
    "    return f\"Hello, {name}!\"\n",
    "\n",
    "print(greet(\"Alice\"))  # This will print the uppercase greeting and the execution time\n",
    "```\n",
    "\n",
    "In this example, the `greet` function is first passed through the `timing_decorator`, and then the result is passed through the `uppercase_decorator`.\n",
    "\n",
    "## Use Cases:\n",
    "\n",
    "Decorators are extremely useful for cross-cutting concerns like logging, authentication, memoization, access control, and more. They help separate concerns and improve code modularity by allowing you to add features to existing code without modifying it directly.\n",
    "\n",
    "Keep in mind that decorators can be a bit advanced due to their nature, so they may require some practice and understanding to use effectively."
   ]
  },
  {
   "cell_type": "code",
   "execution_count": 1,
   "id": "e9dcf609",
   "metadata": {},
   "outputs": [
    {
     "name": "stdout",
     "output_type": "stream",
     "text": [
      "slow_function took 2.0015852451324463 seconds to execute.\n"
     ]
    }
   ],
   "source": [
    "import time\n",
    "\n",
    "def timing_decorator(func):\n",
    "    def wrapper(*args, **kwargs):\n",
    "        start_time = time.time()\n",
    "        result = func(*args, **kwargs)\n",
    "        end_time = time.time()\n",
    "        print(f\"{func.__name__} took {end_time - start_time} seconds to execute.\")\n",
    "        return result\n",
    "    return wrapper\n",
    "\n",
    "@timing_decorator\n",
    "def slow_function():\n",
    "    time.sleep(2)\n",
    "    # we can do something else here \n",
    "\n",
    "slow_function()  # This will print the execution time of slow_function"
   ]
  },
  {
   "cell_type": "code",
   "execution_count": 4,
   "id": "096e3a09",
   "metadata": {
    "scrolled": true
   },
   "outputs": [
    {
     "name": "stdout",
     "output_type": "stream",
     "text": [
      "You are in the decorator function\n",
      "Now you are in sensitive operation\n",
      "\n",
      "Performing sensitive operation for user1: confidential data\n",
      "You are in the decorator function\n"
     ]
    },
    {
     "ename": "PermissionError",
     "evalue": "Unauthorized access.",
     "output_type": "error",
     "traceback": [
      "\u001b[1;31m---------------------------------------------------------------------------\u001b[0m",
      "\u001b[1;31mPermissionError\u001b[0m                           Traceback (most recent call last)",
      "Cell \u001b[1;32mIn[4], line 22\u001b[0m\n\u001b[0;32m     19\u001b[0m sensitive_operation(\u001b[38;5;124m\"\u001b[39m\u001b[38;5;124muser1\u001b[39m\u001b[38;5;124m\"\u001b[39m, \u001b[38;5;124m\"\u001b[39m\u001b[38;5;124mconfidential data\u001b[39m\u001b[38;5;124m\"\u001b[39m)\n\u001b[0;32m     21\u001b[0m \u001b[38;5;66;03m# Unauthorized user\u001b[39;00m\n\u001b[1;32m---> 22\u001b[0m \u001b[43msensitive_operation\u001b[49m\u001b[43m(\u001b[49m\u001b[38;5;124;43m\"\u001b[39;49m\u001b[38;5;124;43muser3\u001b[39;49m\u001b[38;5;124;43m\"\u001b[39;49m\u001b[43m,\u001b[49m\u001b[43m \u001b[49m\u001b[38;5;124;43m\"\u001b[39;49m\u001b[38;5;124;43msecret information\u001b[39;49m\u001b[38;5;124;43m\"\u001b[39;49m\u001b[43m)\u001b[49m\n",
      "Cell \u001b[1;32mIn[4], line 10\u001b[0m, in \u001b[0;36mauthorization_decorator.<locals>.wrapper\u001b[1;34m(user, *args, **kwargs)\u001b[0m\n\u001b[0;32m      8\u001b[0m \u001b[38;5;28;01melse\u001b[39;00m:\n\u001b[0;32m      9\u001b[0m     \u001b[38;5;28mprint\u001b[39m(\u001b[38;5;124m\"\u001b[39m\u001b[38;5;124mYou are in the decorator function\u001b[39m\u001b[38;5;124m\"\u001b[39m)\n\u001b[1;32m---> 10\u001b[0m     \u001b[38;5;28;01mraise\u001b[39;00m \u001b[38;5;167;01mPermissionError\u001b[39;00m(\u001b[38;5;124m\"\u001b[39m\u001b[38;5;124mUnauthorized access.\u001b[39m\u001b[38;5;124m\"\u001b[39m)\n",
      "\u001b[1;31mPermissionError\u001b[0m: Unauthorized access."
     ]
    }
   ],
   "source": [
    "AUTHORIZED_USERS = [\"user1\", \"user2\"]\n",
    "\n",
    "def authorization_decorator(func):\n",
    "    def wrapper(user, *args, **kwargs):\n",
    "        if user in AUTHORIZED_USERS:\n",
    "            print(\"You are in the decorator function\")\n",
    "            return func(user, *args, **kwargs)\n",
    "        else:\n",
    "            print(\"You are in the decorator function\")\n",
    "            raise PermissionError(\"Unauthorized access.\")\n",
    "    return wrapper\n",
    "\n",
    "@authorization_decorator\n",
    "def sensitive_operation(user, data):\n",
    "    print(\"Now you are in sensitive operation\\n\")\n",
    "    print(f\"Performing sensitive operation for {user}: {data}\")\n",
    "\n",
    "# Authorized user\n",
    "sensitive_operation(\"user1\", \"confidential data\")\n",
    "\n",
    "# Unauthorized user\n",
    "sensitive_operation(\"user3\", \"secret information\")\n"
   ]
  },
  {
   "cell_type": "code",
   "execution_count": 5,
   "id": "3be361a6",
   "metadata": {},
   "outputs": [
    {
     "name": "stdout",
     "output_type": "stream",
     "text": [
      "greet took 0.0 seconds to execute.\n",
      "HELLO, ALICE!\n"
     ]
    }
   ],
   "source": [
    "def uppercase_decorator(func):\n",
    "    def wrapper(*args, **kwargs):\n",
    "        result = func(*args, **kwargs)\n",
    "        return result.upper()\n",
    "    return wrapper\n",
    "\n",
    "@uppercase_decorator # then this\n",
    "@timing_decorator # this will be run first\n",
    "def greet(name):\n",
    "    return f\"Hello, {name}!\"\n",
    "\n",
    "print(greet(\"Alice\"))  # This will print the uppercase greeting and the execution time"
   ]
  }
 ],
 "metadata": {
  "kernelspec": {
   "display_name": "Python 3 (ipykernel)",
   "language": "python",
   "name": "python3"
  },
  "language_info": {
   "codemirror_mode": {
    "name": "ipython",
    "version": 3
   },
   "file_extension": ".py",
   "mimetype": "text/x-python",
   "name": "python",
   "nbconvert_exporter": "python",
   "pygments_lexer": "ipython3",
   "version": "3.11.3"
  }
 },
 "nbformat": 4,
 "nbformat_minor": 5
}
