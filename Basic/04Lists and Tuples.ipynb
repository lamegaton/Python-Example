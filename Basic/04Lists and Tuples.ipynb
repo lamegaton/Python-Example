{
 "cells": [
  {
   "cell_type": "markdown",
   "id": "c4e9a1d8",
   "metadata": {},
   "source": [
    "## Lists:\n",
    "\n",
    "### Creating Lists:\n",
    "\n",
    "You can create a list by enclosing comma-separated values in square brackets:\n",
    "\n",
    "```python\n",
    "fruits = ['apple', 'banana', 'cherry']\n",
    "```\n",
    "\n",
    "### Accessing Values:\n",
    "\n",
    "You can access individual elements of a list using indexing:\n",
    "\n",
    "```python\n",
    "first_fruit = fruits[0]  # 'apple'\n",
    "second_fruit = fruits[1]  # 'banana'\n",
    "```\n",
    "\n",
    "### Modifying Lists:\n",
    "\n",
    "Lists are mutable, meaning you can change their contents after creation:\n",
    "\n",
    "```python\n",
    "fruits[1] = 'orange'\n",
    "```\n",
    "\n",
    "### List Functions:\n",
    "\n",
    "Python provides various functions for working with lists:\n",
    "\n",
    "- `len(list)`: Returns the number of elements in the list.\n",
    "- `list.append(item)`: Adds an item to the end of the list.\n",
    "- `list.remove(item)`: Removes the first occurrence of the specified item.\n",
    "- `list.sort()`: Sorts the list in ascending order.\n",
    "- `list.reverse()`: Reverses the order of elements in the list.\n",
    "\n",
    "### Common Usage:\n",
    "\n",
    "Lists are commonly used for holding collections of items where the order matters, such as a to-do list or a collection of data points.\n",
    "\n",
    "```python\n",
    "numbers = [10, 5, 8, 3, 15]\n",
    "numbers.sort()  # Sort the list in ascending order\n",
    "```\n",
    "\n",
    "## Tuples:\n",
    "\n",
    "### Creating Tuples:\n",
    "\n",
    "Tuples are similar to lists, but they are immutable, meaning their contents cannot be changed after creation. Tuples are defined using parentheses:\n",
    "\n",
    "```python\n",
    "coordinates = (4, 5)\n",
    "```\n",
    "\n",
    "### Accessing Values:\n",
    "\n",
    "You can access elements of a tuple using indexing, just like with lists:\n",
    "\n",
    "```python\n",
    "x = coordinates[0]  # 4\n",
    "y = coordinates[1]  # 5\n",
    "```\n",
    "\n",
    "### Tuple Functions:\n",
    "\n",
    "Since tuples are immutable, they have fewer functions compared to lists. Some common functions include:\n",
    "\n",
    "- `len(tuple)`: Returns the number of elements in the tuple.\n",
    "- `tuple.count(item)`: Returns the number of occurrences of a specified item.\n",
    "- `tuple.index(item)`: Returns the index of the first occurrence of a specified item.\n",
    "\n",
    "### Common Usage:\n",
    "\n",
    "Tuples are often used when you want to group related data together, such as coordinates, RGB color values, or date and time components.\n",
    "\n",
    "```python\n",
    "rgb_color = (255, 0, 128)\n",
    "```\n",
    "\n",
    "Both lists and tuples have their own strengths and are used in different scenarios. Lists are dynamic and mutable, while tuples are static and immutable. Choose the appropriate type based on your specific needs.\n",
    "\n",
    "Overall, lists and tuples are fundamental data structures in Python that allow you to store, manipulate, and access collections of values efficiently."
   ]
  },
  {
   "cell_type": "markdown",
   "id": "83ddb8b5",
   "metadata": {},
   "source": [
    "## Lists:\n",
    "\n",
    "1. **List Comprehensions:** Use list comprehensions to create new lists based on existing ones in a concise and readable manner.\n",
    "\n",
    "```python\n",
    "numbers = [1, 2, 3, 4, 5]\n",
    "squared_numbers = [x**2 for x in numbers]  # [1, 4, 9, 16, 25]\n",
    "```\n",
    "\n",
    "2. **Copying Lists:** Be cautious when copying lists using `new_list = old_list`, as it creates a reference, not a new list. To create a true copy, use slicing or the `copy()` method.\n",
    "\n",
    "```python\n",
    "original = [1, 2, 3]\n",
    "shallow_copy = original[:]  # Create a shallow copy using slicing\n",
    "import copy\n",
    "deep_copy = copy.copy(original)  # Create a deep copy\n",
    "```\n",
    "\n",
    "3. **List Unpacking:** You can unpack a list into separate variables using the assignment operator.\n",
    "\n",
    "```python\n",
    "coordinates = [4, 5]\n",
    "x, y = coordinates\n",
    "```\n",
    "\n",
    "## Tuples:\n",
    "\n",
    "1. **Tuple Packing and Unpacking:** You can pack multiple values into a tuple, and then unpack them into separate variables.\n",
    "\n",
    "```python\n",
    "point = 4, 5\n",
    "x, y = point\n",
    "```\n",
    "\n",
    "2. **Swapping Values:** Tuples are useful for swapping values without needing a temporary variable.\n",
    "\n",
    "```python\n",
    "a = 5\n",
    "b = 10\n",
    "a, b = b, a  # Swap the values of 'a' and 'b'\n",
    "```\n",
    "\n",
    "3. **Named Tuples:** Use the `collections.namedtuple` function to create tuples with named fields for improved readability.\n",
    "\n",
    "```python\n",
    "from collections import namedtuple\n",
    "\n",
    "Person = namedtuple('Person', ['name', 'age', 'city'])\n",
    "person = Person('Alice', 25, 'New York')\n",
    "print(person.name)  # Access fields by name\n",
    "```\n",
    "\n",
    "4. **Tuple as Dictionary Key:** Tuples can be used as dictionary keys, unlike lists which are not hashable.\n",
    "\n",
    "```python\n",
    "coordinate_dict = {(4, 5): 'Point A', (1, 2): 'Point B'}\n",
    "print(coordinate_dict[(4, 5)])  # Access dictionary value using a tuple key\n",
    "```\n",
    "\n",
    "Remember that while lists are mutable and can be modified after creation, tuples are immutable and cannot be changed. Use the appropriate type based on your use case."
   ]
  },
  {
   "cell_type": "markdown",
   "id": "595b1524",
   "metadata": {},
   "source": [
    "## Assignment\n",
    "**Prompt: Shopping List Analysis**\n",
    "\n",
    "Imagine you have a shopping list containing items and their corresponding prices. Each item is represented as a tuple with the format `(item_name, price)`. Write a Python program that performs the following tasks:\n",
    "\n",
    "1. Create a list of shopping items using tuples.\n",
    "2. Calculate and print the total cost of all items on the list.\n",
    "3. Find and print the most expensive item and its price.\n",
    "\n",
    "Example shopping list:\n",
    "```python\n",
    "shopping_list = [\n",
    "    ('apple', 1.0),\n",
    "    ('banana', 0.5),\n",
    "    ('chocolate', 2.5),\n",
    "    ('orange', 1.2),\n",
    "    ('milk', 3.0)\n",
    "]\n",
    "```\n",
    "\n",
    "**Your Task:**\n",
    "1. Define the shopping list as a list of tuples.\n",
    "2. Use a loop to calculate the total cost of all items.\n",
    "3. Determine the most expensive item and its price using a loop and conditional statements.\n",
    "4. Print the total cost and the most expensive item's information.\n",
    "\n",
    "Feel free to modify the example shopping list or create your own list of items with different prices to practice with. This prompt will help you practice working with lists, tuples, loops, and conditional statements in a practical context."
   ]
  },
  {
   "cell_type": "code",
   "execution_count": 9,
   "id": "9c0dda21",
   "metadata": {},
   "outputs": [
    {
     "data": {
      "text/plain": [
       "list"
      ]
     },
     "execution_count": 9,
     "metadata": {},
     "output_type": "execute_result"
    }
   ],
   "source": [
    "shopping_list = [\n",
    "    ('apple', 1.0),\n",
    "    ('banana', 0.5),\n",
    "    ('chocolate', 2.5),\n",
    "    ('orange', 1.2),\n",
    "    ('milk', 3.0)\n",
    "]\n",
    "type(shopping_list)"
   ]
  },
  {
   "cell_type": "code",
   "execution_count": 20,
   "id": "4c69c6be",
   "metadata": {},
   "outputs": [
    {
     "name": "stdout",
     "output_type": "stream",
     "text": [
      "total:  8.2 max:  ('milk', 3.0)\n"
     ]
    }
   ],
   "source": [
    "total = 0\n",
    "for item, cost in shopping_list:\n",
    "    total += cost\n",
    "print(\"total: \",total, \"max: \", max(shopping_list, key=lambda x: x[1]))"
   ]
  },
  {
   "cell_type": "code",
   "execution_count": 15,
   "id": "4a102c01",
   "metadata": {},
   "outputs": [],
   "source": [
    "shopping_tup = tuple(shopping_list)"
   ]
  },
  {
   "cell_type": "code",
   "execution_count": 17,
   "id": "25198a9c",
   "metadata": {},
   "outputs": [
    {
     "data": {
      "text/plain": [
       "tuple"
      ]
     },
     "execution_count": 17,
     "metadata": {},
     "output_type": "execute_result"
    }
   ],
   "source": [
    "type(shopping_tup)"
   ]
  },
  {
   "cell_type": "code",
   "execution_count": 21,
   "id": "33aa140b",
   "metadata": {},
   "outputs": [
    {
     "name": "stdout",
     "output_type": "stream",
     "text": [
      "total:  8.2 max:  ('milk', 3.0)\n"
     ]
    }
   ],
   "source": [
    "total = 0\n",
    "for item, cost in shopping_tup:\n",
    "    total += cost\n",
    "print(\"total: \",total, \"max: \", max(shopping_list, key=lambda x: x[1]))"
   ]
  },
  {
   "cell_type": "markdown",
   "id": "8f910d54",
   "metadata": {},
   "source": [
    "key=lambda x: x[1]: This is a lambda function that takes each element x (which is a tuple) and returns the value x[1]. The value x[1] corresponds to the second element of the tuple, which is the price of the item. So, for each tuple in the shopping list, the lambda function returns its price."
   ]
  }
 ],
 "metadata": {
  "kernelspec": {
   "display_name": "Python 3 (ipykernel)",
   "language": "python",
   "name": "python3"
  },
  "language_info": {
   "codemirror_mode": {
    "name": "ipython",
    "version": 3
   },
   "file_extension": ".py",
   "mimetype": "text/x-python",
   "name": "python",
   "nbconvert_exporter": "python",
   "pygments_lexer": "ipython3",
   "version": "3.11.3"
  }
 },
 "nbformat": 4,
 "nbformat_minor": 5
}
