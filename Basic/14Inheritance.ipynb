{
 "cells": [
  {
   "cell_type": "markdown",
   "id": "9c6149fe",
   "metadata": {},
   "source": [
    "## Inheritance in Python:\n",
    "\n",
    "Inheritance is a fundamental concept in object-oriented programming (OOP) that allows you to create a new class that inherits attributes and methods from an existing class. The new class is called a **subclass** or **derived class**, and the existing class is called the **base class** or **parent class**.\n",
    "\n",
    "Inheritance enables code reuse, promotes the creation of more organized and modular code, and allows for the extension and customization of existing classes.\n",
    "\n",
    "### Defining a Subclass:\n",
    "\n",
    "To create a subclass, you define a new class and specify the base class in parentheses after the class name.\n",
    "\n",
    "```python\n",
    "class BaseClass:\n",
    "    def base_method(self):\n",
    "        print(\"This is a method from the base class.\")\n",
    "\n",
    "class SubClass(BaseClass):\n",
    "    def sub_method(self):\n",
    "        print(\"This is a method from the subclass.\")\n",
    "```\n",
    "\n",
    "### Overriding Methods:\n",
    "\n",
    "Subclasses can *override methods* from the base class by defining a method *with the same name* in the subclass. This allows the subclass to provide its own implementation of the method.\n",
    "\n",
    "```python\n",
    "class BaseClass:\n",
    "    def method(self):\n",
    "        print(\"Method from base class.\")\n",
    "\n",
    "class SubClass(BaseClass):\n",
    "    def method(self):\n",
    "        print(\"Method from subclass.\")\n",
    "```\n",
    "\n",
    "### Accessing Base Class Methods:\n",
    "\n",
    "Subclasses can access methods and attributes of the *base class* using the `super()` function.\n",
    "\n",
    "```python\n",
    "class BaseClass:\n",
    "    def method(self):\n",
    "        print(\"Method from base class.\")\n",
    "\n",
    "class SubClass(BaseClass):\n",
    "    def method(self):\n",
    "        super().method()\n",
    "        print(\"Method from subclass.\")\n",
    "```\n",
    "\n",
    "### Multiple Inheritance:\n",
    "\n",
    "Python supports multiple inheritance, where a subclass can inherit from more than one base class.\n",
    "\n",
    "```python\n",
    "class Base1:\n",
    "    def method(self):\n",
    "        print(\"Method from Base1.\")\n",
    "\n",
    "class Base2:\n",
    "    def method(self):\n",
    "        print(\"Method from Base2.\")\n",
    "\n",
    "class SubClass(Base1, Base2):\n",
    "    pass\n",
    "\n",
    "sub_obj = SubClass()\n",
    "sub_obj.method()  # Calls the method from Base1 (leftmost base class)\n",
    "```\n",
    "\n",
    "Inheritance is a powerful tool in object-oriented programming that promotes code reusability, modularity, and extensibility. By creating specialized classes based on existing ones, you can efficiently build complex systems while maintaining a clear and organized structure."
   ]
  },
  {
   "cell_type": "code",
   "execution_count": 4,
   "id": "4a268deb",
   "metadata": {},
   "outputs": [
    {
     "name": "stdout",
     "output_type": "stream",
     "text": [
      "Method from Base1.\n"
     ]
    }
   ],
   "source": [
    "class Base1:\n",
    "    def method(self):\n",
    "        print(\"Method from Base1.\")\n",
    "\n",
    "class Base2:\n",
    "    def method(self):\n",
    "        print(\"Method from Base2.\")\n",
    "\n",
    "class SubClass(Base1, Base2):\n",
    "    pass\n",
    "\n",
    "sub_obj = SubClass()\n",
    "sub_obj.method()  # Calls the method from Base1 (leftmost base class)"
   ]
  },
  {
   "cell_type": "code",
   "execution_count": 5,
   "id": "d59e967a",
   "metadata": {},
   "outputs": [
    {
     "name": "stdout",
     "output_type": "stream",
     "text": [
      "Method from Base1.\n",
      "Method from Base2.\n"
     ]
    }
   ],
   "source": [
    "class Base1:\n",
    "    def method1(self):\n",
    "        print(\"Method from Base1.\")\n",
    "\n",
    "class Base2:\n",
    "    def method2(self):\n",
    "        print(\"Method from Base2.\")\n",
    "\n",
    "class SubClass(Base1, Base2):\n",
    "    pass\n",
    "\n",
    "sub_obj = SubClass()\n",
    "sub_obj.method1()\n",
    "sub_obj.method2()"
   ]
  }
 ],
 "metadata": {
  "kernelspec": {
   "display_name": "Python 3 (ipykernel)",
   "language": "python",
   "name": "python3"
  },
  "language_info": {
   "codemirror_mode": {
    "name": "ipython",
    "version": 3
   },
   "file_extension": ".py",
   "mimetype": "text/x-python",
   "name": "python",
   "nbconvert_exporter": "python",
   "pygments_lexer": "ipython3",
   "version": "3.11.3"
  }
 },
 "nbformat": 4,
 "nbformat_minor": 5
}
