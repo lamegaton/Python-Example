{
 "cells": [
  {
   "cell_type": "code",
   "execution_count": 1,
   "id": "7cf5c864",
   "metadata": {},
   "outputs": [
    {
     "name": "stdout",
     "output_type": "stream",
     "text": [
      "5\n"
     ]
    }
   ],
   "source": [
    "x = 1\n",
    "y = 0\n",
    "z=0\n",
    "\n",
    "result = 2\n",
    "try:\n",
    "    z = z + 1\n",
    "    result = x/y\n",
    "    z = z + 1\n",
    "except ZeroDivisionError:\n",
    "    z = z + result\n",
    "else:\n",
    "    z =+ 1\n",
    "finally:\n",
    "    z = z + 1\n",
    "z = z + 1\n",
    "print (z)"
   ]
  },
  {
   "cell_type": "code",
   "execution_count": 2,
   "id": "bf29b3db",
   "metadata": {},
   "outputs": [
    {
     "name": "stdout",
     "output_type": "stream",
     "text": [
      "methods\n"
     ]
    }
   ],
   "source": [
    "from string import *\n",
    "\n",
    "method = \"METHODS\"\n",
    "\n",
    "def x(methods):\n",
    "    method = str.swapcase(methods)\n",
    "    print((\"%(method)s\" % locals()))\n",
    "methods = str.swapcase(method[:-1])\n",
    "x(method)"
   ]
  },
  {
   "cell_type": "code",
   "execution_count": 3,
   "id": "220d4d0d",
   "metadata": {},
   "outputs": [
    {
     "name": "stdout",
     "output_type": "stream",
     "text": [
      "('a', 'b')\n",
      "a\n"
     ]
    }
   ],
   "source": [
    "tuple = \"a\", \"b\"\n",
    "x,y = tuple\n",
    "print(tuple)\n",
    "print(x)"
   ]
  },
  {
   "cell_type": "code",
   "execution_count": 4,
   "id": "4a369d05",
   "metadata": {},
   "outputs": [
    {
     "name": "stdout",
     "output_type": "stream",
     "text": [
      "[[1, 4], [2, 5], [3, 6], [4, 8]]\n"
     ]
    }
   ],
   "source": [
    "matrix = [[1, 2, 3, 4], [4, 5, 6, 8]]\n",
    "transposed_result = []\n",
    "\n",
    "for i in range(len(matrix[0])):\n",
    "    transposed_result_row = []\n",
    "    for row in matrix:\n",
    "        transposed_result_row.append(row[i])\n",
    "    transposed_result.append(transposed_result_row)\n",
    "\n",
    "print(transposed_result)\n"
   ]
  },
  {
   "cell_type": "code",
   "execution_count": 5,
   "id": "29e654da",
   "metadata": {},
   "outputs": [
    {
     "name": "stdout",
     "output_type": "stream",
     "text": [
      "95\n",
      "100\n",
      "100\n",
      "None\n"
     ]
    }
   ],
   "source": [
    "class Services(object):\n",
    "    def __init__(self):\n",
    "        self.testscore = 95\n",
    "\n",
    "    def getScore(self):\n",
    "        print(self.testscore)\n",
    "\n",
    "    def setScore(self, testscore):\n",
    "        self.testscore = testscore\n",
    "\n",
    "servicesscore = Services()\n",
    "servicesscore.getScore()\n",
    "servicesscore.setScore(100)\n",
    "servicesscore.getScore()\n",
    "print(servicesscore.getScore())\n"
   ]
  },
  {
   "cell_type": "code",
   "execution_count": 6,
   "id": "00deea72",
   "metadata": {},
   "outputs": [
    {
     "name": "stdout",
     "output_type": "stream",
     "text": [
      "l i t t l e   "
     ]
    }
   ],
   "source": [
    "s = \"mary had a little little lamb\"\n",
    "for c in s[11:18]:\n",
    "    print(c, end=' ')\n",
    "    if \"little\" in c:\n",
    "        print(c)\n"
   ]
  }
 ],
 "metadata": {
  "kernelspec": {
   "display_name": "Python 3 (ipykernel)",
   "language": "python",
   "name": "python3"
  },
  "language_info": {
   "codemirror_mode": {
    "name": "ipython",
    "version": 3
   },
   "file_extension": ".py",
   "mimetype": "text/x-python",
   "name": "python",
   "nbconvert_exporter": "python",
   "pygments_lexer": "ipython3",
   "version": "3.11.3"
  }
 },
 "nbformat": 4,
 "nbformat_minor": 5
}
