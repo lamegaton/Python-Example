{
 "cells": [
  {
   "cell_type": "markdown",
   "id": "7991a3cd",
   "metadata": {},
   "source": [
    "## Encapsulation in Python:\n",
    "\n",
    "Encapsulation is one of the fundamental principles of object-oriented programming (OOP). It refers to the concept of bundling data (attributes) and methods (functions) that operate on the data into a single unit called a **class**. Encapsulation allows you to control access to the internal data of an object and provides a way to enforce data integrity and hide implementation details from the outside world.\n",
    "\n",
    "In Python, encapsulation is achieved through access modifiers and naming conventions.\n",
    "\n",
    "### Access Modifiers:\n",
    "\n",
    "Python does not have strict access modifiers like some other languages (e.g., public, private, protected). However, it provides a convention to indicate the level of visibility of attributes and methods:\n",
    "\n",
    "1. **Public:** By default, attributes and methods are considered public and can be accessed from anywhere.\n",
    "\n",
    "2. **Protected:** An attribute or method with a name starting with an underscore `_` is considered protected. It's a hint to other developers that the attribute/method is intended for internal use within the class or its subclasses, but it's still accessible.\n",
    "\n",
    "3. **Private:** An attribute or method with a name starting with two underscores `__` (double underscore) is considered private. It's meant to indicate that the attribute/method is intended only for internal use within the class, and its name is also \"mangled\" to avoid accidental name clashes in subclasses.\n",
    "\n",
    "### Naming Conventions:\n",
    "\n",
    "- `_single_leading_underscore`: Used for protected attributes/methods. Example: `_protected_attribute`.\n",
    "\n",
    "- `__double_leading_underscore`: Used for private attributes/methods. Example: `__private_attribute`.\n",
    "\n",
    "- `__double_leading_and_trailing_underscore__`: Used for special methods (also known as \"magic\" or \"dunder\" methods), which have a specific meaning in Python, like `__init__` for object initialization.\n",
    "\n",
    "## Example:\n",
    "\n",
    "Here's an example demonstrating encapsulation using access modifiers:\n",
    "\n",
    "```python\n",
    "class BankAccount:\n",
    "    def __init__(self, account_number, balance):\n",
    "        self._account_number = account_number  # Protected attribute\n",
    "        self.__balance = balance  # Private attribute\n",
    "\n",
    "    def deposit(self, amount):\n",
    "        if amount > 0:\n",
    "            self.__balance += amount\n",
    "            print(f\"Deposited ${amount}. New balance: ${self.__balance}\")\n",
    "\n",
    "    def withdraw(self, amount):\n",
    "        if 0 < amount <= self.__balance:\n",
    "            self.__balance -= amount\n",
    "            print(f\"Withdrew ${amount}. New balance: ${self.__balance}\")\n",
    "        else:\n",
    "            print(\"Insufficient funds.\")\n",
    "\n",
    "    def get_balance(self):\n",
    "        return self.__balance\n",
    "\n",
    "\n",
    "account = BankAccount(\"123456789\", 1000)\n",
    "account.deposit(500)\n",
    "account.withdraw(200)\n",
    "print(\"Current balance:\", account.get_balance())\n",
    "\n",
    "# Attempting to access protected and private attributes directly\n",
    "print(account._account_number)  # Accessing protected attribute\n",
    "print(account.__balance)  # AttributeError: 'BankAccount' object has no attribute '__balance'\n",
    "```\n",
    "_BankAcount__balance\n",
    "In this example, the `BankAccount` class encapsulates the account number and balance as protected and private attributes respectively. The methods `deposit`, `withdraw`, and `get_balance` provide controlled access to the data.\n",
    "\n",
    "Remember that encapsulation is a way to indicate intent and to control access, but it's not a strict security mechanism. Developers should still follow conventions and use encapsulation to ensure code maintainability and reliability."
   ]
  },
  {
   "cell_type": "code",
   "execution_count": 8,
   "id": "6d74f146",
   "metadata": {},
   "outputs": [
    {
     "name": "stdout",
     "output_type": "stream",
     "text": [
      "Deposited $500. New balance: $1500\n",
      "Withdrew $200. New balance: $1300\n",
      "Current balance: 1300\n"
     ]
    }
   ],
   "source": [
    "class BankAccount:\n",
    "    def __init__(self, account_number, balance):\n",
    "        self._account_number = account_number  # Protected attribute\n",
    "        self.__balance = balance  # Private attribute\n",
    "        self._private = 123\n",
    "\n",
    "    def deposit(self, amount):\n",
    "        if amount > 0:\n",
    "            self.__balance += amount\n",
    "            print(f\"Deposited ${amount}. New balance: ${self.__balance}\")\n",
    "\n",
    "    def withdraw(self, amount):\n",
    "        if 0 < amount <= self.__balance:\n",
    "            self.__balance -= amount\n",
    "            print(f\"Withdrew ${amount}. New balance: ${self.__balance}\")\n",
    "        else:\n",
    "            print(\"Insufficient funds.\")\n",
    "\n",
    "    def get_balance(self):\n",
    "        return self.__balance\n",
    "\n",
    "\n",
    "account = BankAccount(\"123456789\", 1000)\n",
    "account.deposit(500)\n",
    "account.withdraw(200)\n",
    "print(\"Current balance:\", account.get_balance())"
   ]
  },
  {
   "cell_type": "code",
   "execution_count": 16,
   "id": "7b822821",
   "metadata": {},
   "outputs": [
    {
     "name": "stdout",
     "output_type": "stream",
     "text": [
      "123456789\n"
     ]
    },
    {
     "ename": "AttributeError",
     "evalue": "'BankAccount' object has no attribute '__balance'",
     "output_type": "error",
     "traceback": [
      "\u001b[1;31m---------------------------------------------------------------------------\u001b[0m",
      "\u001b[1;31mAttributeError\u001b[0m                            Traceback (most recent call last)",
      "Cell \u001b[1;32mIn[16], line 3\u001b[0m\n\u001b[0;32m      1\u001b[0m \u001b[38;5;66;03m# Attempting to access protected and private attributes directly\u001b[39;00m\n\u001b[0;32m      2\u001b[0m \u001b[38;5;28mprint\u001b[39m(account\u001b[38;5;241m.\u001b[39m_account_number)  \u001b[38;5;66;03m# Accessing protected attribute\u001b[39;00m\n\u001b[1;32m----> 3\u001b[0m \u001b[38;5;28mprint\u001b[39m(\u001b[43maccount\u001b[49m\u001b[38;5;241;43m.\u001b[39;49m\u001b[43m__balance\u001b[49m)\n",
      "\u001b[1;31mAttributeError\u001b[0m: 'BankAccount' object has no attribute '__balance'"
     ]
    }
   ],
   "source": [
    "# Attempting to access protected and private attributes directly\n",
    "print(account._account_number)  # Accessing protected attribute\n",
    "print(account.__balance)"
   ]
  },
  {
   "cell_type": "code",
   "execution_count": 14,
   "id": "2d8bb38c",
   "metadata": {},
   "outputs": [
    {
     "name": "stdout",
     "output_type": "stream",
     "text": [
      "['_BankAccount__balance', '__class__', '__delattr__', '__dict__', '__dir__', '__doc__', '__eq__', '__format__', '__ge__', '__getattribute__', '__getstate__', '__gt__', '__hash__', '__init__', '__init_subclass__', '__le__', '__lt__', '__module__', '__ne__', '__new__', '__reduce__', '__reduce_ex__', '__repr__', '__setattr__', '__sizeof__', '__str__', '__subclasshook__', '__weakref__', '_account_number', '_private', 'deposit', 'get_balance', 'withdraw']\n"
     ]
    }
   ],
   "source": [
    "print(dir(account))"
   ]
  },
  {
   "cell_type": "code",
   "execution_count": 21,
   "id": "93916510",
   "metadata": {
    "scrolled": true
   },
   "outputs": [
    {
     "name": "stdout",
     "output_type": "stream",
     "text": [
      "1500\n"
     ]
    }
   ],
   "source": [
    "print(account._BankAccount__balance)"
   ]
  },
  {
   "cell_type": "code",
   "execution_count": 20,
   "id": "ace630fa",
   "metadata": {},
   "outputs": [
    {
     "name": "stdout",
     "output_type": "stream",
     "text": [
      "1000\n",
      "1500\n",
      "Invalid balance.\n"
     ]
    }
   ],
   "source": [
    "class BankAccount:\n",
    "    def __init__(self, account_number, balance):\n",
    "        self._account_number = account_number  # Protected attribute\n",
    "        self.__balance = balance  # Private attribute\n",
    "\n",
    "    @property\n",
    "    def balance(self):\n",
    "        return self.__balance\n",
    "\n",
    "    @balance.setter\n",
    "    def balance(self, new_balance):\n",
    "        if new_balance >= 0:\n",
    "            self.__balance = new_balance\n",
    "        else:\n",
    "            print(\"Invalid balance.\")\n",
    "\n",
    "    # Other methods...\n",
    "\n",
    "account = BankAccount(\"123456789\", 1000)\n",
    "\n",
    "# Accessing private attribute using the property getter\n",
    "print(account.balance)  # This will print the balance\n",
    "\n",
    "# Changing balance using the property setter\n",
    "account.balance = 1500\n",
    "print(account.balance)  # This will print the updated balance\n",
    "\n",
    "# Attempting to set an invalid balance\n",
    "account.balance = -1000  # This will print \"Invalid balance.\"\n"
   ]
  }
 ],
 "metadata": {
  "kernelspec": {
   "display_name": "Python 3 (ipykernel)",
   "language": "python",
   "name": "python3"
  },
  "language_info": {
   "codemirror_mode": {
    "name": "ipython",
    "version": 3
   },
   "file_extension": ".py",
   "mimetype": "text/x-python",
   "name": "python",
   "nbconvert_exporter": "python",
   "pygments_lexer": "ipython3",
   "version": "3.11.3"
  }
 },
 "nbformat": 4,
 "nbformat_minor": 5
}
