{
 "cells": [
  {
   "cell_type": "markdown",
   "id": "d8dd75e2",
   "metadata": {},
   "source": [
    "## Function Definition Syntax:\n",
    "\n",
    "In Python, you can define functions using the `def` keyword. A function can take zero or more parameters, and it can return a value using the `return` statement.\n",
    "\n",
    "```python\n",
    "def add(a, b):\n",
    "    result = a + b\n",
    "    return result\n",
    "```\n",
    "\n",
    "## Parameter Passing:\n",
    "\n",
    "There are several ways to pass parameters to functions:\n",
    "\n",
    "### Positional Parameters:\n",
    "\n",
    "The most common way is by passing arguments in the order defined by the function parameters.\n",
    "\n",
    "```python\n",
    "result = add(3, 5)  # a = 3, b = 5\n",
    "```\n",
    "\n",
    "### Keyword Arguments:\n",
    "\n",
    "You can also pass arguments using keywords, allowing you to specify the parameter names explicitly.\n",
    "\n",
    "```python\n",
    "result = add(b=5, a=3)  # Order doesn't matter due to keyword arguments\n",
    "```\n",
    "\n",
    "### Default Parameter Values:\n",
    "\n",
    "You can provide default values for function parameters. These values are used if the corresponding argument is not provided when the function is called.\n",
    "\n",
    "```python\n",
    "def power(base, exponent=2):\n",
    "    return base ** exponent\n",
    "\n",
    "result = power(3)  # Uses the default exponent value (2)\n",
    "```\n",
    "\n",
    "## Returning Results:\n",
    "\n",
    "A function can return a value using the `return` statement. You can return multiple values as a tuple.\n",
    "\n",
    "```python\n",
    "def divide(a, b):\n",
    "    if b == 0:\n",
    "        return None  # Return None to indicate division by zero\n",
    "    else:\n",
    "        return a / b\n",
    "\n",
    "result = divide(10, 2)  # Returns 5.0\n",
    "```\n",
    "\n",
    "## Lambda Expressions:\n",
    "\n",
    "Lambda expressions are anonymous functions defined using the `lambda` keyword. They are typically used for small, simple operations.\n",
    "\n",
    "```python\n",
    "square = lambda x: x ** 2\n",
    "result = square(4)  # Returns 16\n",
    "```\n",
    "\n",
    "Lambda functions are often used in situations where you need to pass a function as an argument to another function, like sorting or filtering.\n",
    "\n",
    "```python\n",
    "numbers = [4, 1, 8, 3, 5,9,66,22,11]\n",
    "sorted_numbers = sorted(numbers, key=lambda x: x % 2)  # Sorts by even/odd\n",
    "# return [4, 8, 66, 22, 1, 3, 5, 9, 11]\n",
    "```\n",
    "\n",
    "Lambda expressions are limited in complexity compared to regular functions, as they can only contain a single expression.\n",
    "\n",
    "## Docstrings:\n",
    "\n",
    "It's a good practice to provide documentation for your functions using docstrings. Docstrings are triple-quoted strings placed at the beginning of a function definition, and they describe the function's purpose, parameters, and return values.\n",
    "\n",
    "```python\n",
    "def multiply(a, b):\n",
    "    \"\"\"\n",
    "    Multiply two numbers and return the result.\n",
    "    \n",
    "    Parameters:\n",
    "    a (int): The first number.\n",
    "    b (int): The second number.\n",
    "    \n",
    "    Returns:\n",
    "    int: The product of a and b.\n",
    "    \"\"\"\n",
    "    return a * b\n",
    "```\n",
    "\n",
    "This overview covers the basics of Python function definition, parameter passing, returning results, and lambda expressions in Python 3. Functions are a fundamental building block in Python programming and are used extensively to organize and modularize code."
   ]
  },
  {
   "cell_type": "code",
   "execution_count": 4,
   "id": "b8a515f9",
   "metadata": {},
   "outputs": [
    {
     "name": "stdout",
     "output_type": "stream",
     "text": [
      "[4, 8, 66, 22, 1, 3, 5, 9, 11]\n"
     ]
    }
   ],
   "source": [
    "numbers = [4, 1, 8, 3, 5,9,66,22,11]\n",
    "sorted_numbers = sorted(numbers, key=lambda x: x % 2)  # Sorts by even/odd\n",
    "print(sorted_numbers)"
   ]
  },
  {
   "cell_type": "markdown",
   "id": "09e8f869",
   "metadata": {},
   "source": [
    "**Prompt: Reverse Sort by Length**\n",
    "\n",
    "Write a Python lambda function that takes a list of strings and sorts them in reverse order based on their lengths. After sorting, print the sorted list of strings.\n",
    "\n",
    "Example input: `['apple', 'banana', 'cherry', 'date', 'elderberry']`\n",
    "\n",
    "Expected output: `['elderberry', 'banana', 'cherry', 'apple', 'date']`\n",
    "\n",
    "**Your Task:**\n",
    "1. Define a lambda function that takes a string as a parameter and returns its length.\n",
    "2. Create a list of strings (you can use the example input or create your own list).\n",
    "3. Use the `sorted()` function with a lambda function as the sorting key to sort the list of strings in reverse order based on their lengths.\n",
    "4. Print the sorted list of strings.\n",
    "\n",
    "Feel free to use the example input provided or create your own list of strings to practice with. This task will help you practice creating and using lambda functions for sorting based on specific criteria."
   ]
  },
  {
   "cell_type": "code",
   "execution_count": 9,
   "id": "51009ca9",
   "metadata": {
    "scrolled": true
   },
   "outputs": [
    {
     "name": "stdout",
     "output_type": "stream",
     "text": [
      "['elderberry', 'date', 'cherry', 'banana', 'apple']\n"
     ]
    }
   ],
   "source": [
    "x = ['apple', 'elderberry', 'cherry', 'date', 'banana']\n",
    "stringLen=lambda x: len(x)\n",
    "sorted_len = sorted(x,reverse=True)\n",
    "print(sorted_len)"
   ]
  }
 ],
 "metadata": {
  "kernelspec": {
   "display_name": "Python 3 (ipykernel)",
   "language": "python",
   "name": "python3"
  },
  "language_info": {
   "codemirror_mode": {
    "name": "ipython",
    "version": 3
   },
   "file_extension": ".py",
   "mimetype": "text/x-python",
   "name": "python",
   "nbconvert_exporter": "python",
   "pygments_lexer": "ipython3",
   "version": "3.11.3"
  }
 },
 "nbformat": 4,
 "nbformat_minor": 5
}
