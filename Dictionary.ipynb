{
 "cells": [
  {
   "cell_type": "markdown",
   "id": "d5fad61c",
   "metadata": {},
   "source": [
    "# Dictionary"
   ]
  },
  {
   "cell_type": "markdown",
   "id": "a7cff9c1",
   "metadata": {},
   "source": [
    "**Python Dictionaries:**\n",
    "Dictionaries in Python are unordered collections of key-value pairs. They are used to store and manage data where you associate a value with a unique key. Dictionaries are defined using curly braces `{}` and use a colon `:` to separate keys from values.\n",
    "\n",
    "Here's a basic example of creating a dictionary:\n",
    "\n",
    "```python\n",
    "# Creating a dictionary\n",
    "student = {\n",
    "    \"name\": \"John\",\n",
    "    \"age\": 20,\n",
    "    \"major\": \"Computer Science\"\n",
    "}\n",
    "```\n",
    "\n",
    "**Setting Values:**\n",
    "You can set values in a dictionary by assigning a value to a key using the assignment operator `=`.\n",
    "\n",
    "```python\n",
    "# Modifying values\n",
    "student[\"age\"] = 21\n",
    "student[\"major\"] = \"Data Science\"\n",
    "```\n",
    "\n",
    "**Using Default Values:**\n",
    "Python's `dict.get()` method is commonly used to retrieve a value associated with a key. If the key is not present, you can provide a default value.\n",
    "\n",
    "```python\n",
    "# Using default values\n",
    "grade = student.get(\"grade\", \"Not Available\")\n",
    "print(\"Grade:\", grade)  # Output: Grade: Not Available\n",
    "```\n",
    "\n",
    "**Iterating Through a Dictionary:**\n",
    "You can iterate through the keys, values, or key-value pairs of a dictionary using loops.\n",
    "\n",
    "```python\n",
    "# Iterating through keys\n",
    "for key in student:\n",
    "    print(\"Key:\", key, \"Value:\", student[key])\n",
    "\n",
    "# Iterating through values\n",
    "for value in student.values():\n",
    "    print(\"Value:\", value)\n",
    "\n",
    "# Iterating through key-value pairs\n",
    "for key, value in student.items():\n",
    "    print(\"Key:\", key, \"Value:\", value)\n",
    "```\n",
    "\n",
    "**Adding Items to a Dictionary:**\n",
    "You can add items to a dictionary by assigning a value to a new key.\n",
    "\n",
    "```python\n",
    "# Adding a new item\n",
    "student[\"gpa\"] = 3.8\n",
    "```\n",
    "\n",
    "Remember that dictionaries are mutable, which means you can change their contents after they've been created.\n",
    "\n",
    "These are some fundamental aspects of working with Python dictionaries. They provide an efficient and flexible way to store and manage data using key-value pairs."
   ]
  },
  {
   "cell_type": "markdown",
   "id": "91901a2e",
   "metadata": {},
   "source": []
  },
  {
   "cell_type": "code",
   "execution_count": 3,
   "id": "b3e79f8c",
   "metadata": {},
   "outputs": [],
   "source": [
    "# Creating a dictionary\n",
    "student = {\n",
    "    \"name\": \"John\",\n",
    "    \"age\": 20,\n",
    "    \"major\": \"Computer Science\"\n",
    "}"
   ]
  },
  {
   "cell_type": "code",
   "execution_count": 4,
   "id": "687f1083",
   "metadata": {},
   "outputs": [],
   "source": [
    "# Modifying values\n",
    "student[\"age\"] = 21\n",
    "student[\"major\"] = \"Data Science\""
   ]
  },
  {
   "cell_type": "code",
   "execution_count": 5,
   "id": "27637f41",
   "metadata": {},
   "outputs": [
    {
     "name": "stdout",
     "output_type": "stream",
     "text": [
      "Grade: Not Available\n"
     ]
    }
   ],
   "source": [
    "# Using default values\n",
    "grade = student.get(\"grade\", \"Not Available\")\n",
    "print(\"Grade:\", grade)  # Output: Grade: Not Available"
   ]
  },
  {
   "cell_type": "code",
   "execution_count": 6,
   "id": "86eac3be",
   "metadata": {},
   "outputs": [
    {
     "name": "stdout",
     "output_type": "stream",
     "text": [
      "{'name': 'John', 'age': 21, 'major': 'Data Science'}\n"
     ]
    }
   ],
   "source": [
    "print(student)"
   ]
  },
  {
   "cell_type": "code",
   "execution_count": 8,
   "id": "21428431",
   "metadata": {},
   "outputs": [],
   "source": [
    "student[\"gpa\"] = 3.2\n"
   ]
  },
  {
   "cell_type": "code",
   "execution_count": 9,
   "id": "f654c798",
   "metadata": {},
   "outputs": [
    {
     "name": "stdout",
     "output_type": "stream",
     "text": [
      "{'name': 'John', 'age': 21, 'major': 'Data Science', 'gpa': 3.2}\n"
     ]
    }
   ],
   "source": [
    "print(student)"
   ]
  },
  {
   "cell_type": "markdown",
   "id": "68c97579",
   "metadata": {},
   "source": [
    "Dictionary uses referecen"
   ]
  },
  {
   "cell_type": "code",
   "execution_count": 10,
   "id": "422f041d",
   "metadata": {},
   "outputs": [
    {
     "name": "stdout",
     "output_type": "stream",
     "text": [
      "7\n"
     ]
    }
   ],
   "source": [
    "my_dict = {'a': [1, 2, 3], 'b': [4, 5, 6]}\n",
    "\n",
    "\n",
    "new_dict = my_dict\n",
    "new_dict['a'][0] = 7\n",
    "\n",
    "print(my_dict['a'][0])\n"
   ]
  },
  {
   "cell_type": "markdown",
   "id": "f3b94863",
   "metadata": {},
   "source": [
    "In Python, when you assign a dictionary to a new variable using the assignment operator (=), you're actually creating a reference to the same dictionary object, not a new copy. To avoid that we can use deepcopy from copy"
   ]
  },
  {
   "cell_type": "code",
   "execution_count": null,
   "id": "29855ee2",
   "metadata": {},
   "outputs": [],
   "source": [
    "import copy\n",
    "\n",
    "my_dict = {'a': [1, 2, 3], 'b': [4, 5, 6]}\n",
    "new_dict = copy.deepcopy(my_dict)  # Create a deep copy\n",
    "\n",
    "new_dict['a'][0] = 7\n",
    "\n",
    "print(my_dict['a'][0])  # Output: 1\n"
   ]
  },
  {
   "cell_type": "markdown",
   "id": "978aa287",
   "metadata": {},
   "source": [
    "# Dictionary Comprehension"
   ]
  },
  {
   "cell_type": "code",
   "execution_count": null,
   "id": "751031d3",
   "metadata": {},
   "outputs": [],
   "source": [
    "numbers = [1, 2, 3, 4, 5]\n",
    "squared_dict = {num: num ** 2 for num in numbers}\n",
    "sum_dict = {num: }\n",
    "\n",
    "print(squared_dict)  # Output: {1: 1, 2: 4, 3: 9, 4: 16, 5: 25}"
   ]
  },
  {
   "cell_type": "code",
   "execution_count": null,
   "id": "dabf1fa8",
   "metadata": {},
   "outputs": [],
   "source": []
  },
  {
   "cell_type": "code",
   "execution_count": null,
   "id": "d1200c68",
   "metadata": {},
   "outputs": [],
   "source": []
  },
  {
   "cell_type": "code",
   "execution_count": null,
   "id": "36c6fa48",
   "metadata": {},
   "outputs": [],
   "source": []
  },
  {
   "cell_type": "code",
   "execution_count": null,
   "id": "033b2769",
   "metadata": {},
   "outputs": [],
   "source": []
  },
  {
   "cell_type": "code",
   "execution_count": null,
   "id": "c21346b2",
   "metadata": {},
   "outputs": [],
   "source": []
  }
 ],
 "metadata": {
  "kernelspec": {
   "display_name": "Python 3 (ipykernel)",
   "language": "python",
   "name": "python3"
  },
  "language_info": {
   "codemirror_mode": {
    "name": "ipython",
    "version": 3
   },
   "file_extension": ".py",
   "mimetype": "text/x-python",
   "name": "python",
   "nbconvert_exporter": "python",
   "pygments_lexer": "ipython3",
   "version": "3.11.3"
  }
 },
 "nbformat": 4,
 "nbformat_minor": 5
}
